{
 "cells": [
  {
   "cell_type": "markdown",
   "metadata": {
    "id": "ReoBzap1acVv"
   },
   "source": [
    "# Data loading and preprocessing for single-cell analysis\n",
    "\n",
    "<i>*Note: Tutorial from the Krishnaswamy Lab at Yale University's Machine Learning for Single Cell Analysis workshop.</i>\n",
    "\n",
    "We review the following steps:\n",
    "\n",
    "1. Loading 10X data  \n",
    "2. Filtering\n",
    "3. Normalization\n",
    "4. Transformation\n",
    "\n",
    "We will process a 31,000 cell 27-day time course of embryoid body (EB) differentiation using scRNA-seq."
   ]
  },
  {
   "cell_type": "markdown",
   "metadata": {
    "id": "93H4rmWqqTtT"
   },
   "source": [
    "## 0. Introducing `scprep`\n",
    "\n",
    "`scprep` is a lightweight scRNA-seq toolkit for `python` Data Scientists.\n",
    "\n",
    "Most scRNA-seq toolkits are written in `R` (the most famous being [Seurat](https://satijalab.org/seurat/)), but we (and a majority of machine learning / data scientists) develop our tools in `python`. Currently, [Scanpy](https://icb-scanpy.readthedocs-hosted.com/en/stable/) is the most popular toolkit for scRNA-seq analysis in `python`. However, Scanpy has a highly structured framework for data representation that is incompatible with the bulk of the `python` data science framework, e.g. [pandas](https://pandas.pydata.org/), [SciPy](https://www.scipy.org/), and [scikit-learn](https://scikit-learn.org/stable/).\n",
    "\n",
    "To accommodate users of the wider `python` data analysis ecosystem, we developed `scprep` (<b>s</b>ingle <b>c</b>ell <b>prep</b>aration). `scprep` makes it easier to use the pandas / SciPy / scikit-learn ecosystem for scRNA-seq analysis. Most of `scprep` is composed of helper functions to perform tasks common to single cell data like loading counts matrices, filtering & normalizing cells by library size, and calculating common statistics. The key advantage of `scprep` is that data can be stored in Pandas DataFrames, NumPy arrays, Scipy sparse matrices, and no matter which tools you choose to interface with, _it just works_.\n",
    "\n",
    "To learn more about `scprep`, you can read the documentation at https://scprep.readthedocs.io/."
   ]
  },
  {
   "cell_type": "markdown",
   "metadata": {
    "id": "oBJb_vVW1ONw"
   },
   "source": [
    "## 1. Install tools\n",
    "\n",
    "To run this notebook, you need to download a couple of packages. Unfortunately, due to restrictions of Google CoLab, these installations won't be saved. A workaround can be found at the following link if you're interested: https://stackoverflow.com/questions/52582858/saving-pip-installs-in-google-colab\n",
    "\n",
    "For now, simply run the following line of code by clicking on the code cell and hit `Shift` + `Enter`."
   ]
  },
  {
   "cell_type": "code",
   "execution_count": 1,
   "metadata": {
    "id": "RUZx-nc_1Mdr"
   },
   "outputs": [
    {
     "name": "stdout",
     "output_type": "stream",
     "text": [
      "Collecting scprep\n",
      "  Downloading scprep-1.0.11-py3-none-any.whl (100 kB)\n",
      "\u001b[K     |████████████████████████████████| 100 kB 1.5 MB/s ta 0:00:01\n",
      "\u001b[?25hCollecting tasklogger\n",
      "  Downloading tasklogger-1.0.0-py3-none-any.whl (14 kB)\n",
      "Requirement already satisfied: pandas>=0.25 in /opt/anaconda3/lib/python3.7/site-packages (from scprep) (1.0.1)\n",
      "Requirement already satisfied: scipy>=0.18.1 in /opt/anaconda3/lib/python3.7/site-packages (from scprep) (1.4.1)\n",
      "Requirement already satisfied: numpy>=1.12.0 in /opt/anaconda3/lib/python3.7/site-packages (from scprep) (1.18.1)\n",
      "Requirement already satisfied: scikit-learn>=0.19.1 in /opt/anaconda3/lib/python3.7/site-packages (from scprep) (0.22.1)\n",
      "Requirement already satisfied: decorator>=4.3.0 in /opt/anaconda3/lib/python3.7/site-packages (from scprep) (4.4.1)\n",
      "Requirement already satisfied: future in /opt/anaconda3/lib/python3.7/site-packages (from tasklogger) (0.18.2)\n",
      "Requirement already satisfied: python-dateutil>=2.6.1 in /opt/anaconda3/lib/python3.7/site-packages (from pandas>=0.25->scprep) (2.8.1)\n",
      "Requirement already satisfied: pytz>=2017.2 in /opt/anaconda3/lib/python3.7/site-packages (from pandas>=0.25->scprep) (2019.3)\n",
      "Requirement already satisfied: joblib>=0.11 in /opt/anaconda3/lib/python3.7/site-packages (from scikit-learn>=0.19.1->scprep) (0.14.1)\n",
      "Requirement already satisfied: six>=1.5 in /opt/anaconda3/lib/python3.7/site-packages (from python-dateutil>=2.6.1->pandas>=0.25->scprep) (1.14.0)\n",
      "Installing collected packages: scprep, tasklogger\n",
      "Successfully installed scprep-1.0.11 tasklogger-1.0.0\n"
     ]
    }
   ],
   "source": [
    "!pip install scprep tasklogger"
   ]
  },
  {
   "cell_type": "markdown",
   "metadata": {
    "id": "lLeE0wGiacVx"
   },
   "source": [
    "### Time course of human embryoid body differentation\n",
    "\n",
    "Low passage H1 hESCs were maintained on Matrigel-coated dishes in DMEM/F12-N2B27 media supplemented with FGF2. For EB (Embriod Body) formation, cells were treated with Dispase, dissociated into small clumps and plated in non-adherent plates in media supplemented with 20% FBS, which was prescreened for EB differentiation. Samples were collected during 3-day intervals during a 27 day-long differentiation timecourse. An undifferentiated hESC sample was also included (Figure S7D). Induction of key germ layer markers in these EB cultures was validated by qPCR (data not shown). For single cell analyses, EB cultures were dissociated, FACS sorted to remove doublets and dead cells and processed on a 10x genomics instrument to generate cDNA libraries, which were then sequenced. Small scale sequencing determined that we have successfully collected data on approximately 31,000 cells equally distributed throughout the timecourse."
   ]
  },
  {
   "cell_type": "markdown",
   "metadata": {
    "id": "XUF17reyacVy"
   },
   "source": [
    "<a id='loading'></a>\n",
    "## 2. Loading 10X data"
   ]
  },
  {
   "cell_type": "markdown",
   "metadata": {
    "id": "oNu79_4iacVz"
   },
   "source": [
    "### Downloading Data from Mendeley Datasets\n",
    "\n",
    "The EB dataset is publically available as `scRNAseq.zip` at Mendelay Datasets at <https://data.mendeley.com/datasets/v6n743h5ng/>. \n",
    "\n",
    "Inside the scRNAseq folder, there are five subdirectories, and in each subdirectory are three files: `barcodes.tsv`, `genes.tsv`, and `matrix.mtx`. For more information about how CellRanger produces these files, check out the [Gene-Barcode Matrices Documentation](https://support.10xgenomics.com/single-cell-gene-expression/software/pipelines/latest/output/matrices).\n",
    "\n",
    "Here's the directory structure:\n",
    "```\n",
    "download_path\n",
    "└── scRNAseq\n",
    "    ├── scRNAseq.zip\n",
    "    ├── T0_1A\n",
    "    │   ├── barcodes.tsv\n",
    "    │   ├── genes.tsv\n",
    "    │   └── matrix.mtx\n",
    "    ├── T2_3B\n",
    "    │   ├── barcodes.tsv\n",
    "    │   ├── genes.tsv\n",
    "    │   └── matrix.mtx\n",
    "    ├── T4_5C\n",
    "    │   ├── barcodes.tsv\n",
    "    │   ├── genes.tsv\n",
    "    │   └── matrix.mtx\n",
    "    ├── T6_7D\n",
    "    │   ├── barcodes.tsv\n",
    "    │   ├── genes.tsv\n",
    "    │   └── matrix.mtx\n",
    "    └── T8_9E\n",
    "        ├── barcodes.tsv\n",
    "        ├── genes.tsv\n",
    "        └── matrix.mtx\n",
    "```\n",
    "\n",
    "If you have downloaded the files already, set the `download_path` below to the directory where you saved the files. If not, the following code will download the data for you. Not that the download is 746MB: you must have sufficient disk space for the download.\n",
    "\n",
    "**Please Note:** If you are trying to analyze data generated by a more recent version of `cellranger` (a program provided by 10X Genomics to go from raw fastq files to count matrices), the three files generated per sample are `barcodes.tsv.gz`, `features.tsv.gz`, and `matrix.mtx.gz`. The procedure for loading these files with `scprep` is the same as with the previous version."
   ]
  },
  {
   "cell_type": "code",
   "execution_count": 4,
   "metadata": {
    "id": "hbs5FLjZacV0"
   },
   "outputs": [
    {
     "name": "stdout",
     "output_type": "stream",
     "text": [
      "/Users/natasharavinand\n"
     ]
    }
   ],
   "source": [
    "import os\n",
    "import scprep\n",
    "download_path = os.path.expanduser(\"~\")\n",
    "print(download_path)"
   ]
  },
  {
   "cell_type": "code",
   "execution_count": 5,
   "metadata": {
    "id": "uxD_XVSuacV6"
   },
   "outputs": [],
   "source": [
    "if not os.path.isdir(os.path.join(download_path, \"scRNAseq\", \"T0_1A\")):\n",
    "    scprep.io.download.download_and_extract_zip(\n",
    "        url=\"https://md-datasets-public-files-prod.s3.eu-west-1.amazonaws.com/\"\n",
    "        \"5739738f-d4dd-49f7-b8d1-5841abdbeb1e\",\n",
    "        destination=download_path)"
   ]
  },
  {
   "cell_type": "markdown",
   "metadata": {
    "id": "AaPgko5lacWp"
   },
   "source": [
    "### Using `scprep` to import data into Pandas DataFrames\n",
    "\n",
    "\n",
    "We use a toolkit for loading and manipulating single-cell data called `scprep`. The function `load_10X` will automatically load 10X scRNAseq datasets (and others) into a Pandas DataFrame. DataFrames are incredibly useful tools for data analysis in Python. To learn more about them, [check out the Pandas Documentation and Tutorials](https://pandas.pydata.org/pandas-docs/stable/).\n",
    "\n",
    "\n",
    "Let's load the data and create a single matrix that we can use for preprocessing, visualization, and analysis."
   ]
  },
  {
   "cell_type": "markdown",
   "metadata": {
    "id": "8UwGtjtSacWx"
   },
   "source": [
    "### 2.1. Standard imports\n",
    "\n",
    "We'll import these few packages at the beginning of nearly every session."
   ]
  },
  {
   "cell_type": "code",
   "execution_count": 6,
   "metadata": {
    "id": "xHNATT38acWz"
   },
   "outputs": [],
   "source": [
    "import pandas as pd\n",
    "import numpy as np\n",
    "import scprep\n",
    "\n",
    "import matplotlib.pyplot as plt\n",
    "\n",
    "# matplotlib settings for Jupyter notebooks only\n",
    "%matplotlib inline"
   ]
  },
  {
   "cell_type": "markdown",
   "metadata": {
    "id": "DVlHIGbHacW8"
   },
   "source": [
    "### 2.2. Use `scprep.io.load_10X` to import all three matrices into a DataFrame\n",
    "\n",
    "#### Understanding the difference between sparse and dense data\n",
    "\n",
    "By default, `scprep.io.load_10X` loads scRNA-seq data using the Pandas DataFrame with sparse columns [(**see Pandas docs**)](https://pandas.pydata.org/pandas-docs/stable/user_guide/sparse.html) to maximize memory efficiency. However, this will be slower than loading on a dense matrix. Let's have a look at how long it takes to load the data from the first time point and how much memory it uses with dense and sparse data. We'll use `tasklogger` to measure how long each loading step takes."
   ]
  },
  {
   "cell_type": "code",
   "execution_count": 7,
   "metadata": {
    "id": "VOF2c5IJqTtX"
   },
   "outputs": [
    {
     "name": "stdout",
     "output_type": "stream",
     "text": [
      "Calculating dense...\n",
      "Calculated dense in 20.54 seconds.\n",
      "Size: 1196.5MB\n",
      "Calculating sparse...\n",
      "Calculated sparse in 28.09 seconds.\n",
      "Size: 123.0MB\n"
     ]
    }
   ],
   "source": [
    "import tasklogger\n",
    "import pickle\n",
    "\n",
    "# load data in dense format\n",
    "with tasklogger.log_task(\"dense\"):\n",
    "    data_time1 = scprep.io.load_10X(os.path.join(download_path, \"scRNAseq\", \"T0_1A\"),\n",
    "                                    sparse=False, gene_labels='both')\n",
    "    \n",
    "# measure the size of the matrix with pickle\n",
    "print(\"Size: {:.1f}MB\".format(len(pickle.dumps(data_time1)) / 1024**2))\n",
    "\n",
    "# load data in sparse format\n",
    "with tasklogger.log_task(\"sparse\"):\n",
    "    data_time1 = scprep.io.load_10X(os.path.join(download_path, \"scRNAseq\", \"T0_1A\"),\n",
    "                                    sparse=True, gene_labels='both')\n",
    "    \n",
    "# measure the size of the matrix with pickle\n",
    "print(\"Size: {:.1f}MB\".format(len(pickle.dumps(data_time1)) / 1024**2))"
   ]
  },
  {
   "cell_type": "markdown",
   "metadata": {
    "id": "M-ZiF2VnqTtX"
   },
   "source": [
    "So for a small penalty in computation time, we can save a lot of memory. If memory is limited (for example, on Google Colaboratory) it's recommended that you use the sparse format.\n",
    "\n",
    "You'll also notice that we've received a warning (above in red) that the gene symbols are not unique. This doesn't cause a problem with the dense data, but it does with the sparse. We can specify `gene_labels='both'` to ask for our column names as `SYMB (ENSID)` which gives us both the human readability of symbols but also the uniqueness of Ensembl IDs."
   ]
  },
  {
   "cell_type": "markdown",
   "metadata": {
    "id": "zTNJRsMeqTtY"
   },
   "source": [
    "#### Understanding the data matrix\n",
    "\n",
    "How big is our matrix? We can find out with `data.shape`."
   ]
  },
  {
   "cell_type": "code",
   "execution_count": 8,
   "metadata": {
    "id": "RTwePk9IqTtY"
   },
   "outputs": [
    {
     "data": {
      "text/plain": [
       "(4649, 33694)"
      ]
     },
     "execution_count": 8,
     "metadata": {},
     "output_type": "execute_result"
    }
   ],
   "source": [
    "data_time1.shape"
   ]
  },
  {
   "cell_type": "markdown",
   "metadata": {
    "id": "3Rk5yHiiqTtY"
   },
   "source": [
    "We have 4,700 cells (rows) and 33,600 genes (columns). Each row and column has a name associated with it."
   ]
  },
  {
   "cell_type": "markdown",
   "metadata": {
    "id": "KZxa7zF5qTtY"
   },
   "source": [
    "The _columns_ refer to the genes, of features of the data. `data.columns` gives these as a list."
   ]
  },
  {
   "cell_type": "code",
   "execution_count": 9,
   "metadata": {
    "id": "nr9SdiiKqTtZ"
   },
   "outputs": [
    {
     "data": {
      "text/plain": [
       "Index(['RP11-34P13.3 (ENSG00000243485)', 'FAM138A (ENSG00000237613)',\n",
       "       'OR4F5 (ENSG00000186092)', 'RP11-34P13.7 (ENSG00000238009)',\n",
       "       'RP11-34P13.8 (ENSG00000239945)', 'RP11-34P13.14 (ENSG00000239906)',\n",
       "       'RP11-34P13.9 (ENSG00000241599)', 'FO538757.3 (ENSG00000279928)',\n",
       "       'FO538757.2 (ENSG00000279457)', 'AP006222.2 (ENSG00000228463)',\n",
       "       ...\n",
       "       'AC007325.2 (ENSG00000277196)', 'BX072566.1 (ENSG00000277630)',\n",
       "       'AL354822.1 (ENSG00000278384)', 'AC023491.2 (ENSG00000278633)',\n",
       "       'AC004556.1 (ENSG00000276345)', 'AC233755.2 (ENSG00000277856)',\n",
       "       'AC233755.1 (ENSG00000275063)', 'AC240274.1 (ENSG00000271254)',\n",
       "       'AC213203.1 (ENSG00000277475)', 'FAM231B (ENSG00000268674)'],\n",
       "      dtype='object', length=33694)"
      ]
     },
     "execution_count": 9,
     "metadata": {},
     "output_type": "execute_result"
    }
   ],
   "source": [
    "data_time1.columns"
   ]
  },
  {
   "cell_type": "markdown",
   "metadata": {
    "id": "mTYajDF3qTtZ"
   },
   "source": [
    "The _rows_ refer to the cells, of observations of the data. `data.index` gives these as a list."
   ]
  },
  {
   "cell_type": "code",
   "execution_count": 10,
   "metadata": {
    "id": "pvHUdT7CqTtZ"
   },
   "outputs": [
    {
     "data": {
      "text/plain": [
       "Index(['AAACATACCAGAGG-1', 'AAACATTGAAAGCA-1', 'AAACATTGAAGTGA-1',\n",
       "       'AAACATTGGAGGTG-1', 'AAACATTGGTTTCT-1', 'AAACCGTGCAGAAA-1',\n",
       "       'AAACCGTGGAAGGC-1', 'AAACCGTGGCTACA-1', 'AAACGCACCGGTAT-1',\n",
       "       'AAACGCACCTATTC-1',\n",
       "       ...\n",
       "       'TTTCGAACCCTCGT-1', 'TTTCGAACGTCCTC-1', 'TTTCTACTATCGAC-1',\n",
       "       'TTTGACTGAACGTC-1', 'TTTGACTGCTCAAG-1', 'TTTGACTGCTTCTA-1',\n",
       "       'TTTGACTGTGCCCT-1', 'TTTGCATGAGGTCT-1', 'TTTGCATGGGCGAA-1',\n",
       "       'TTTGCATGTGACAC-1'],\n",
       "      dtype='object', name=0, length=4649)"
      ]
     },
     "execution_count": 10,
     "metadata": {},
     "output_type": "execute_result"
    }
   ],
   "source": [
    "data_time1.index"
   ]
  },
  {
   "cell_type": "markdown",
   "metadata": {
    "id": "1GpxRxMoqTtZ"
   },
   "source": [
    "Note that some tools expect the opposite: that genes would be on the rows and cells on the columns. This is a hold-over from bulk RNA-seq, when it made sense for each replicate (of which there were few) to be a feature and each gene (of which there were many) to be an observation; however, now that we can have as many or more cells than genes, it makes more sense for cells to be observations. Keep this difference in mind when you try new tools."
   ]
  },
  {
   "cell_type": "markdown",
   "metadata": {
    "id": "fSJdQtr7qTtZ"
   },
   "source": [
    "Finally, we can view the actual matrix, either by simply typing the matrix name to view the whole thing, or using the `.head()` function to view the first few rows."
   ]
  },
  {
   "cell_type": "code",
   "execution_count": 11,
   "metadata": {
    "id": "pPrzwyYxqTtZ"
   },
   "outputs": [
    {
     "data": {
      "text/html": [
       "<div>\n",
       "<style scoped>\n",
       "    .dataframe tbody tr th:only-of-type {\n",
       "        vertical-align: middle;\n",
       "    }\n",
       "\n",
       "    .dataframe tbody tr th {\n",
       "        vertical-align: top;\n",
       "    }\n",
       "\n",
       "    .dataframe thead th {\n",
       "        text-align: right;\n",
       "    }\n",
       "</style>\n",
       "<table border=\"1\" class=\"dataframe\">\n",
       "  <thead>\n",
       "    <tr style=\"text-align: right;\">\n",
       "      <th></th>\n",
       "      <th>RP11-34P13.3 (ENSG00000243485)</th>\n",
       "      <th>FAM138A (ENSG00000237613)</th>\n",
       "      <th>OR4F5 (ENSG00000186092)</th>\n",
       "      <th>RP11-34P13.7 (ENSG00000238009)</th>\n",
       "      <th>RP11-34P13.8 (ENSG00000239945)</th>\n",
       "      <th>RP11-34P13.14 (ENSG00000239906)</th>\n",
       "      <th>RP11-34P13.9 (ENSG00000241599)</th>\n",
       "      <th>FO538757.3 (ENSG00000279928)</th>\n",
       "      <th>FO538757.2 (ENSG00000279457)</th>\n",
       "      <th>AP006222.2 (ENSG00000228463)</th>\n",
       "      <th>...</th>\n",
       "      <th>AC007325.2 (ENSG00000277196)</th>\n",
       "      <th>BX072566.1 (ENSG00000277630)</th>\n",
       "      <th>AL354822.1 (ENSG00000278384)</th>\n",
       "      <th>AC023491.2 (ENSG00000278633)</th>\n",
       "      <th>AC004556.1 (ENSG00000276345)</th>\n",
       "      <th>AC233755.2 (ENSG00000277856)</th>\n",
       "      <th>AC233755.1 (ENSG00000275063)</th>\n",
       "      <th>AC240274.1 (ENSG00000271254)</th>\n",
       "      <th>AC213203.1 (ENSG00000277475)</th>\n",
       "      <th>FAM231B (ENSG00000268674)</th>\n",
       "    </tr>\n",
       "    <tr>\n",
       "      <th>0</th>\n",
       "      <th></th>\n",
       "      <th></th>\n",
       "      <th></th>\n",
       "      <th></th>\n",
       "      <th></th>\n",
       "      <th></th>\n",
       "      <th></th>\n",
       "      <th></th>\n",
       "      <th></th>\n",
       "      <th></th>\n",
       "      <th></th>\n",
       "      <th></th>\n",
       "      <th></th>\n",
       "      <th></th>\n",
       "      <th></th>\n",
       "      <th></th>\n",
       "      <th></th>\n",
       "      <th></th>\n",
       "      <th></th>\n",
       "      <th></th>\n",
       "      <th></th>\n",
       "    </tr>\n",
       "  </thead>\n",
       "  <tbody>\n",
       "    <tr>\n",
       "      <th>AAACATACCAGAGG-1</th>\n",
       "      <td>0.0</td>\n",
       "      <td>0.0</td>\n",
       "      <td>0.0</td>\n",
       "      <td>0.0</td>\n",
       "      <td>0.0</td>\n",
       "      <td>0.0</td>\n",
       "      <td>0.0</td>\n",
       "      <td>0.0</td>\n",
       "      <td>1.0</td>\n",
       "      <td>0.0</td>\n",
       "      <td>...</td>\n",
       "      <td>0.0</td>\n",
       "      <td>0.0</td>\n",
       "      <td>0.0</td>\n",
       "      <td>0.0</td>\n",
       "      <td>0.0</td>\n",
       "      <td>0.0</td>\n",
       "      <td>0.0</td>\n",
       "      <td>0.0</td>\n",
       "      <td>0.0</td>\n",
       "      <td>0.0</td>\n",
       "    </tr>\n",
       "    <tr>\n",
       "      <th>AAACATTGAAAGCA-1</th>\n",
       "      <td>0.0</td>\n",
       "      <td>0.0</td>\n",
       "      <td>0.0</td>\n",
       "      <td>0.0</td>\n",
       "      <td>0.0</td>\n",
       "      <td>0.0</td>\n",
       "      <td>0.0</td>\n",
       "      <td>0.0</td>\n",
       "      <td>0.0</td>\n",
       "      <td>0.0</td>\n",
       "      <td>...</td>\n",
       "      <td>0.0</td>\n",
       "      <td>0.0</td>\n",
       "      <td>0.0</td>\n",
       "      <td>0.0</td>\n",
       "      <td>0.0</td>\n",
       "      <td>0.0</td>\n",
       "      <td>0.0</td>\n",
       "      <td>0.0</td>\n",
       "      <td>0.0</td>\n",
       "      <td>0.0</td>\n",
       "    </tr>\n",
       "    <tr>\n",
       "      <th>AAACATTGAAGTGA-1</th>\n",
       "      <td>0.0</td>\n",
       "      <td>0.0</td>\n",
       "      <td>0.0</td>\n",
       "      <td>0.0</td>\n",
       "      <td>0.0</td>\n",
       "      <td>0.0</td>\n",
       "      <td>0.0</td>\n",
       "      <td>0.0</td>\n",
       "      <td>0.0</td>\n",
       "      <td>0.0</td>\n",
       "      <td>...</td>\n",
       "      <td>0.0</td>\n",
       "      <td>0.0</td>\n",
       "      <td>0.0</td>\n",
       "      <td>0.0</td>\n",
       "      <td>0.0</td>\n",
       "      <td>0.0</td>\n",
       "      <td>0.0</td>\n",
       "      <td>0.0</td>\n",
       "      <td>0.0</td>\n",
       "      <td>0.0</td>\n",
       "    </tr>\n",
       "    <tr>\n",
       "      <th>AAACATTGGAGGTG-1</th>\n",
       "      <td>0.0</td>\n",
       "      <td>0.0</td>\n",
       "      <td>0.0</td>\n",
       "      <td>0.0</td>\n",
       "      <td>0.0</td>\n",
       "      <td>0.0</td>\n",
       "      <td>0.0</td>\n",
       "      <td>0.0</td>\n",
       "      <td>0.0</td>\n",
       "      <td>0.0</td>\n",
       "      <td>...</td>\n",
       "      <td>0.0</td>\n",
       "      <td>0.0</td>\n",
       "      <td>0.0</td>\n",
       "      <td>0.0</td>\n",
       "      <td>0.0</td>\n",
       "      <td>0.0</td>\n",
       "      <td>0.0</td>\n",
       "      <td>0.0</td>\n",
       "      <td>0.0</td>\n",
       "      <td>0.0</td>\n",
       "    </tr>\n",
       "    <tr>\n",
       "      <th>AAACATTGGTTTCT-1</th>\n",
       "      <td>0.0</td>\n",
       "      <td>0.0</td>\n",
       "      <td>0.0</td>\n",
       "      <td>0.0</td>\n",
       "      <td>0.0</td>\n",
       "      <td>0.0</td>\n",
       "      <td>0.0</td>\n",
       "      <td>0.0</td>\n",
       "      <td>0.0</td>\n",
       "      <td>0.0</td>\n",
       "      <td>...</td>\n",
       "      <td>0.0</td>\n",
       "      <td>0.0</td>\n",
       "      <td>0.0</td>\n",
       "      <td>0.0</td>\n",
       "      <td>0.0</td>\n",
       "      <td>0.0</td>\n",
       "      <td>0.0</td>\n",
       "      <td>0.0</td>\n",
       "      <td>0.0</td>\n",
       "      <td>0.0</td>\n",
       "    </tr>\n",
       "    <tr>\n",
       "      <th>AAACCGTGCAGAAA-1</th>\n",
       "      <td>0.0</td>\n",
       "      <td>0.0</td>\n",
       "      <td>0.0</td>\n",
       "      <td>0.0</td>\n",
       "      <td>0.0</td>\n",
       "      <td>0.0</td>\n",
       "      <td>0.0</td>\n",
       "      <td>0.0</td>\n",
       "      <td>0.0</td>\n",
       "      <td>0.0</td>\n",
       "      <td>...</td>\n",
       "      <td>0.0</td>\n",
       "      <td>0.0</td>\n",
       "      <td>0.0</td>\n",
       "      <td>0.0</td>\n",
       "      <td>0.0</td>\n",
       "      <td>0.0</td>\n",
       "      <td>0.0</td>\n",
       "      <td>0.0</td>\n",
       "      <td>0.0</td>\n",
       "      <td>0.0</td>\n",
       "    </tr>\n",
       "    <tr>\n",
       "      <th>AAACCGTGGAAGGC-1</th>\n",
       "      <td>0.0</td>\n",
       "      <td>0.0</td>\n",
       "      <td>0.0</td>\n",
       "      <td>0.0</td>\n",
       "      <td>0.0</td>\n",
       "      <td>0.0</td>\n",
       "      <td>0.0</td>\n",
       "      <td>0.0</td>\n",
       "      <td>0.0</td>\n",
       "      <td>0.0</td>\n",
       "      <td>...</td>\n",
       "      <td>0.0</td>\n",
       "      <td>0.0</td>\n",
       "      <td>0.0</td>\n",
       "      <td>0.0</td>\n",
       "      <td>0.0</td>\n",
       "      <td>0.0</td>\n",
       "      <td>0.0</td>\n",
       "      <td>0.0</td>\n",
       "      <td>0.0</td>\n",
       "      <td>0.0</td>\n",
       "    </tr>\n",
       "    <tr>\n",
       "      <th>AAACCGTGGCTACA-1</th>\n",
       "      <td>0.0</td>\n",
       "      <td>0.0</td>\n",
       "      <td>0.0</td>\n",
       "      <td>0.0</td>\n",
       "      <td>0.0</td>\n",
       "      <td>0.0</td>\n",
       "      <td>0.0</td>\n",
       "      <td>0.0</td>\n",
       "      <td>0.0</td>\n",
       "      <td>0.0</td>\n",
       "      <td>...</td>\n",
       "      <td>0.0</td>\n",
       "      <td>0.0</td>\n",
       "      <td>0.0</td>\n",
       "      <td>0.0</td>\n",
       "      <td>0.0</td>\n",
       "      <td>0.0</td>\n",
       "      <td>0.0</td>\n",
       "      <td>0.0</td>\n",
       "      <td>0.0</td>\n",
       "      <td>0.0</td>\n",
       "    </tr>\n",
       "    <tr>\n",
       "      <th>AAACGCACCGGTAT-1</th>\n",
       "      <td>0.0</td>\n",
       "      <td>0.0</td>\n",
       "      <td>0.0</td>\n",
       "      <td>0.0</td>\n",
       "      <td>0.0</td>\n",
       "      <td>0.0</td>\n",
       "      <td>0.0</td>\n",
       "      <td>0.0</td>\n",
       "      <td>0.0</td>\n",
       "      <td>0.0</td>\n",
       "      <td>...</td>\n",
       "      <td>0.0</td>\n",
       "      <td>0.0</td>\n",
       "      <td>0.0</td>\n",
       "      <td>0.0</td>\n",
       "      <td>0.0</td>\n",
       "      <td>0.0</td>\n",
       "      <td>0.0</td>\n",
       "      <td>0.0</td>\n",
       "      <td>0.0</td>\n",
       "      <td>0.0</td>\n",
       "    </tr>\n",
       "    <tr>\n",
       "      <th>AAACGCACCTATTC-1</th>\n",
       "      <td>0.0</td>\n",
       "      <td>0.0</td>\n",
       "      <td>0.0</td>\n",
       "      <td>0.0</td>\n",
       "      <td>0.0</td>\n",
       "      <td>0.0</td>\n",
       "      <td>0.0</td>\n",
       "      <td>0.0</td>\n",
       "      <td>0.0</td>\n",
       "      <td>0.0</td>\n",
       "      <td>...</td>\n",
       "      <td>0.0</td>\n",
       "      <td>0.0</td>\n",
       "      <td>0.0</td>\n",
       "      <td>0.0</td>\n",
       "      <td>0.0</td>\n",
       "      <td>0.0</td>\n",
       "      <td>0.0</td>\n",
       "      <td>0.0</td>\n",
       "      <td>0.0</td>\n",
       "      <td>0.0</td>\n",
       "    </tr>\n",
       "  </tbody>\n",
       "</table>\n",
       "<p>10 rows × 33694 columns</p>\n",
       "</div>"
      ],
      "text/plain": [
       "                  RP11-34P13.3 (ENSG00000243485)  FAM138A (ENSG00000237613)  \\\n",
       "0                                                                             \n",
       "AAACATACCAGAGG-1                             0.0                        0.0   \n",
       "AAACATTGAAAGCA-1                             0.0                        0.0   \n",
       "AAACATTGAAGTGA-1                             0.0                        0.0   \n",
       "AAACATTGGAGGTG-1                             0.0                        0.0   \n",
       "AAACATTGGTTTCT-1                             0.0                        0.0   \n",
       "AAACCGTGCAGAAA-1                             0.0                        0.0   \n",
       "AAACCGTGGAAGGC-1                             0.0                        0.0   \n",
       "AAACCGTGGCTACA-1                             0.0                        0.0   \n",
       "AAACGCACCGGTAT-1                             0.0                        0.0   \n",
       "AAACGCACCTATTC-1                             0.0                        0.0   \n",
       "\n",
       "                  OR4F5 (ENSG00000186092)  RP11-34P13.7 (ENSG00000238009)  \\\n",
       "0                                                                           \n",
       "AAACATACCAGAGG-1                      0.0                             0.0   \n",
       "AAACATTGAAAGCA-1                      0.0                             0.0   \n",
       "AAACATTGAAGTGA-1                      0.0                             0.0   \n",
       "AAACATTGGAGGTG-1                      0.0                             0.0   \n",
       "AAACATTGGTTTCT-1                      0.0                             0.0   \n",
       "AAACCGTGCAGAAA-1                      0.0                             0.0   \n",
       "AAACCGTGGAAGGC-1                      0.0                             0.0   \n",
       "AAACCGTGGCTACA-1                      0.0                             0.0   \n",
       "AAACGCACCGGTAT-1                      0.0                             0.0   \n",
       "AAACGCACCTATTC-1                      0.0                             0.0   \n",
       "\n",
       "                  RP11-34P13.8 (ENSG00000239945)  \\\n",
       "0                                                  \n",
       "AAACATACCAGAGG-1                             0.0   \n",
       "AAACATTGAAAGCA-1                             0.0   \n",
       "AAACATTGAAGTGA-1                             0.0   \n",
       "AAACATTGGAGGTG-1                             0.0   \n",
       "AAACATTGGTTTCT-1                             0.0   \n",
       "AAACCGTGCAGAAA-1                             0.0   \n",
       "AAACCGTGGAAGGC-1                             0.0   \n",
       "AAACCGTGGCTACA-1                             0.0   \n",
       "AAACGCACCGGTAT-1                             0.0   \n",
       "AAACGCACCTATTC-1                             0.0   \n",
       "\n",
       "                  RP11-34P13.14 (ENSG00000239906)  \\\n",
       "0                                                   \n",
       "AAACATACCAGAGG-1                              0.0   \n",
       "AAACATTGAAAGCA-1                              0.0   \n",
       "AAACATTGAAGTGA-1                              0.0   \n",
       "AAACATTGGAGGTG-1                              0.0   \n",
       "AAACATTGGTTTCT-1                              0.0   \n",
       "AAACCGTGCAGAAA-1                              0.0   \n",
       "AAACCGTGGAAGGC-1                              0.0   \n",
       "AAACCGTGGCTACA-1                              0.0   \n",
       "AAACGCACCGGTAT-1                              0.0   \n",
       "AAACGCACCTATTC-1                              0.0   \n",
       "\n",
       "                  RP11-34P13.9 (ENSG00000241599)  \\\n",
       "0                                                  \n",
       "AAACATACCAGAGG-1                             0.0   \n",
       "AAACATTGAAAGCA-1                             0.0   \n",
       "AAACATTGAAGTGA-1                             0.0   \n",
       "AAACATTGGAGGTG-1                             0.0   \n",
       "AAACATTGGTTTCT-1                             0.0   \n",
       "AAACCGTGCAGAAA-1                             0.0   \n",
       "AAACCGTGGAAGGC-1                             0.0   \n",
       "AAACCGTGGCTACA-1                             0.0   \n",
       "AAACGCACCGGTAT-1                             0.0   \n",
       "AAACGCACCTATTC-1                             0.0   \n",
       "\n",
       "                  FO538757.3 (ENSG00000279928)  FO538757.2 (ENSG00000279457)  \\\n",
       "0                                                                              \n",
       "AAACATACCAGAGG-1                           0.0                           1.0   \n",
       "AAACATTGAAAGCA-1                           0.0                           0.0   \n",
       "AAACATTGAAGTGA-1                           0.0                           0.0   \n",
       "AAACATTGGAGGTG-1                           0.0                           0.0   \n",
       "AAACATTGGTTTCT-1                           0.0                           0.0   \n",
       "AAACCGTGCAGAAA-1                           0.0                           0.0   \n",
       "AAACCGTGGAAGGC-1                           0.0                           0.0   \n",
       "AAACCGTGGCTACA-1                           0.0                           0.0   \n",
       "AAACGCACCGGTAT-1                           0.0                           0.0   \n",
       "AAACGCACCTATTC-1                           0.0                           0.0   \n",
       "\n",
       "                  AP006222.2 (ENSG00000228463)  ...  \\\n",
       "0                                               ...   \n",
       "AAACATACCAGAGG-1                           0.0  ...   \n",
       "AAACATTGAAAGCA-1                           0.0  ...   \n",
       "AAACATTGAAGTGA-1                           0.0  ...   \n",
       "AAACATTGGAGGTG-1                           0.0  ...   \n",
       "AAACATTGGTTTCT-1                           0.0  ...   \n",
       "AAACCGTGCAGAAA-1                           0.0  ...   \n",
       "AAACCGTGGAAGGC-1                           0.0  ...   \n",
       "AAACCGTGGCTACA-1                           0.0  ...   \n",
       "AAACGCACCGGTAT-1                           0.0  ...   \n",
       "AAACGCACCTATTC-1                           0.0  ...   \n",
       "\n",
       "                  AC007325.2 (ENSG00000277196)  BX072566.1 (ENSG00000277630)  \\\n",
       "0                                                                              \n",
       "AAACATACCAGAGG-1                           0.0                           0.0   \n",
       "AAACATTGAAAGCA-1                           0.0                           0.0   \n",
       "AAACATTGAAGTGA-1                           0.0                           0.0   \n",
       "AAACATTGGAGGTG-1                           0.0                           0.0   \n",
       "AAACATTGGTTTCT-1                           0.0                           0.0   \n",
       "AAACCGTGCAGAAA-1                           0.0                           0.0   \n",
       "AAACCGTGGAAGGC-1                           0.0                           0.0   \n",
       "AAACCGTGGCTACA-1                           0.0                           0.0   \n",
       "AAACGCACCGGTAT-1                           0.0                           0.0   \n",
       "AAACGCACCTATTC-1                           0.0                           0.0   \n",
       "\n",
       "                  AL354822.1 (ENSG00000278384)  AC023491.2 (ENSG00000278633)  \\\n",
       "0                                                                              \n",
       "AAACATACCAGAGG-1                           0.0                           0.0   \n",
       "AAACATTGAAAGCA-1                           0.0                           0.0   \n",
       "AAACATTGAAGTGA-1                           0.0                           0.0   \n",
       "AAACATTGGAGGTG-1                           0.0                           0.0   \n",
       "AAACATTGGTTTCT-1                           0.0                           0.0   \n",
       "AAACCGTGCAGAAA-1                           0.0                           0.0   \n",
       "AAACCGTGGAAGGC-1                           0.0                           0.0   \n",
       "AAACCGTGGCTACA-1                           0.0                           0.0   \n",
       "AAACGCACCGGTAT-1                           0.0                           0.0   \n",
       "AAACGCACCTATTC-1                           0.0                           0.0   \n",
       "\n",
       "                  AC004556.1 (ENSG00000276345)  AC233755.2 (ENSG00000277856)  \\\n",
       "0                                                                              \n",
       "AAACATACCAGAGG-1                           0.0                           0.0   \n",
       "AAACATTGAAAGCA-1                           0.0                           0.0   \n",
       "AAACATTGAAGTGA-1                           0.0                           0.0   \n",
       "AAACATTGGAGGTG-1                           0.0                           0.0   \n",
       "AAACATTGGTTTCT-1                           0.0                           0.0   \n",
       "AAACCGTGCAGAAA-1                           0.0                           0.0   \n",
       "AAACCGTGGAAGGC-1                           0.0                           0.0   \n",
       "AAACCGTGGCTACA-1                           0.0                           0.0   \n",
       "AAACGCACCGGTAT-1                           0.0                           0.0   \n",
       "AAACGCACCTATTC-1                           0.0                           0.0   \n",
       "\n",
       "                  AC233755.1 (ENSG00000275063)  AC240274.1 (ENSG00000271254)  \\\n",
       "0                                                                              \n",
       "AAACATACCAGAGG-1                           0.0                           0.0   \n",
       "AAACATTGAAAGCA-1                           0.0                           0.0   \n",
       "AAACATTGAAGTGA-1                           0.0                           0.0   \n",
       "AAACATTGGAGGTG-1                           0.0                           0.0   \n",
       "AAACATTGGTTTCT-1                           0.0                           0.0   \n",
       "AAACCGTGCAGAAA-1                           0.0                           0.0   \n",
       "AAACCGTGGAAGGC-1                           0.0                           0.0   \n",
       "AAACCGTGGCTACA-1                           0.0                           0.0   \n",
       "AAACGCACCGGTAT-1                           0.0                           0.0   \n",
       "AAACGCACCTATTC-1                           0.0                           0.0   \n",
       "\n",
       "                  AC213203.1 (ENSG00000277475)  FAM231B (ENSG00000268674)  \n",
       "0                                                                          \n",
       "AAACATACCAGAGG-1                           0.0                        0.0  \n",
       "AAACATTGAAAGCA-1                           0.0                        0.0  \n",
       "AAACATTGAAGTGA-1                           0.0                        0.0  \n",
       "AAACATTGGAGGTG-1                           0.0                        0.0  \n",
       "AAACATTGGTTTCT-1                           0.0                        0.0  \n",
       "AAACCGTGCAGAAA-1                           0.0                        0.0  \n",
       "AAACCGTGGAAGGC-1                           0.0                        0.0  \n",
       "AAACCGTGGCTACA-1                           0.0                        0.0  \n",
       "AAACGCACCGGTAT-1                           0.0                        0.0  \n",
       "AAACGCACCTATTC-1                           0.0                        0.0  \n",
       "\n",
       "[10 rows x 33694 columns]"
      ]
     },
     "execution_count": 11,
     "metadata": {},
     "output_type": "execute_result"
    }
   ],
   "source": [
    "data_time1.head(10)"
   ]
  },
  {
   "cell_type": "markdown",
   "metadata": {
    "id": "JNWkzIxxqTtZ"
   },
   "source": [
    "#### Loading the whole dataset\n",
    "\n",
    "Now we know how to load the data, let's load the data matrix for each sample (this may take a few minutes). Note that [`scprep.io`](https://scprep.readthedocs.io/en/stable/reference.html#module-scprep.io) has a range of different input functions: csv, tsv, mtx, and fcs are also available."
   ]
  },
  {
   "cell_type": "code",
   "execution_count": 12,
   "metadata": {
    "id": "9lc31so9acW-",
    "scrolled": true
   },
   "outputs": [
    {
     "data": {
      "text/html": [
       "<div>\n",
       "<style scoped>\n",
       "    .dataframe tbody tr th:only-of-type {\n",
       "        vertical-align: middle;\n",
       "    }\n",
       "\n",
       "    .dataframe tbody tr th {\n",
       "        vertical-align: top;\n",
       "    }\n",
       "\n",
       "    .dataframe thead th {\n",
       "        text-align: right;\n",
       "    }\n",
       "</style>\n",
       "<table border=\"1\" class=\"dataframe\">\n",
       "  <thead>\n",
       "    <tr style=\"text-align: right;\">\n",
       "      <th></th>\n",
       "      <th>RP11-34P13.3 (ENSG00000243485)</th>\n",
       "      <th>FAM138A (ENSG00000237613)</th>\n",
       "      <th>OR4F5 (ENSG00000186092)</th>\n",
       "      <th>RP11-34P13.7 (ENSG00000238009)</th>\n",
       "      <th>RP11-34P13.8 (ENSG00000239945)</th>\n",
       "      <th>RP11-34P13.14 (ENSG00000239906)</th>\n",
       "      <th>RP11-34P13.9 (ENSG00000241599)</th>\n",
       "      <th>FO538757.3 (ENSG00000279928)</th>\n",
       "      <th>FO538757.2 (ENSG00000279457)</th>\n",
       "      <th>AP006222.2 (ENSG00000228463)</th>\n",
       "      <th>...</th>\n",
       "      <th>AC007325.2 (ENSG00000277196)</th>\n",
       "      <th>BX072566.1 (ENSG00000277630)</th>\n",
       "      <th>AL354822.1 (ENSG00000278384)</th>\n",
       "      <th>AC023491.2 (ENSG00000278633)</th>\n",
       "      <th>AC004556.1 (ENSG00000276345)</th>\n",
       "      <th>AC233755.2 (ENSG00000277856)</th>\n",
       "      <th>AC233755.1 (ENSG00000275063)</th>\n",
       "      <th>AC240274.1 (ENSG00000271254)</th>\n",
       "      <th>AC213203.1 (ENSG00000277475)</th>\n",
       "      <th>FAM231B (ENSG00000268674)</th>\n",
       "    </tr>\n",
       "    <tr>\n",
       "      <th>0</th>\n",
       "      <th></th>\n",
       "      <th></th>\n",
       "      <th></th>\n",
       "      <th></th>\n",
       "      <th></th>\n",
       "      <th></th>\n",
       "      <th></th>\n",
       "      <th></th>\n",
       "      <th></th>\n",
       "      <th></th>\n",
       "      <th></th>\n",
       "      <th></th>\n",
       "      <th></th>\n",
       "      <th></th>\n",
       "      <th></th>\n",
       "      <th></th>\n",
       "      <th></th>\n",
       "      <th></th>\n",
       "      <th></th>\n",
       "      <th></th>\n",
       "      <th></th>\n",
       "    </tr>\n",
       "  </thead>\n",
       "  <tbody>\n",
       "    <tr>\n",
       "      <th>AAACATACACCCAA-1</th>\n",
       "      <td>0.0</td>\n",
       "      <td>0.0</td>\n",
       "      <td>0.0</td>\n",
       "      <td>0.0</td>\n",
       "      <td>0.0</td>\n",
       "      <td>0.0</td>\n",
       "      <td>0.0</td>\n",
       "      <td>0.0</td>\n",
       "      <td>0.0</td>\n",
       "      <td>0.0</td>\n",
       "      <td>...</td>\n",
       "      <td>0.0</td>\n",
       "      <td>0.0</td>\n",
       "      <td>0.0</td>\n",
       "      <td>0.0</td>\n",
       "      <td>0.0</td>\n",
       "      <td>0.0</td>\n",
       "      <td>0.0</td>\n",
       "      <td>0.0</td>\n",
       "      <td>0.0</td>\n",
       "      <td>0.0</td>\n",
       "    </tr>\n",
       "    <tr>\n",
       "      <th>AAACATACCGAGTT-1</th>\n",
       "      <td>0.0</td>\n",
       "      <td>0.0</td>\n",
       "      <td>0.0</td>\n",
       "      <td>0.0</td>\n",
       "      <td>0.0</td>\n",
       "      <td>0.0</td>\n",
       "      <td>0.0</td>\n",
       "      <td>0.0</td>\n",
       "      <td>1.0</td>\n",
       "      <td>1.0</td>\n",
       "      <td>...</td>\n",
       "      <td>0.0</td>\n",
       "      <td>0.0</td>\n",
       "      <td>0.0</td>\n",
       "      <td>0.0</td>\n",
       "      <td>0.0</td>\n",
       "      <td>0.0</td>\n",
       "      <td>0.0</td>\n",
       "      <td>0.0</td>\n",
       "      <td>0.0</td>\n",
       "      <td>0.0</td>\n",
       "    </tr>\n",
       "    <tr>\n",
       "      <th>AAACATACGTAGCT-1</th>\n",
       "      <td>0.0</td>\n",
       "      <td>0.0</td>\n",
       "      <td>0.0</td>\n",
       "      <td>0.0</td>\n",
       "      <td>0.0</td>\n",
       "      <td>0.0</td>\n",
       "      <td>0.0</td>\n",
       "      <td>0.0</td>\n",
       "      <td>0.0</td>\n",
       "      <td>0.0</td>\n",
       "      <td>...</td>\n",
       "      <td>0.0</td>\n",
       "      <td>0.0</td>\n",
       "      <td>0.0</td>\n",
       "      <td>0.0</td>\n",
       "      <td>0.0</td>\n",
       "      <td>0.0</td>\n",
       "      <td>0.0</td>\n",
       "      <td>0.0</td>\n",
       "      <td>0.0</td>\n",
       "      <td>0.0</td>\n",
       "    </tr>\n",
       "    <tr>\n",
       "      <th>AAACATACGTCCTC-1</th>\n",
       "      <td>0.0</td>\n",
       "      <td>0.0</td>\n",
       "      <td>0.0</td>\n",
       "      <td>0.0</td>\n",
       "      <td>0.0</td>\n",
       "      <td>0.0</td>\n",
       "      <td>0.0</td>\n",
       "      <td>0.0</td>\n",
       "      <td>0.0</td>\n",
       "      <td>0.0</td>\n",
       "      <td>...</td>\n",
       "      <td>0.0</td>\n",
       "      <td>0.0</td>\n",
       "      <td>0.0</td>\n",
       "      <td>0.0</td>\n",
       "      <td>0.0</td>\n",
       "      <td>0.0</td>\n",
       "      <td>0.0</td>\n",
       "      <td>1.0</td>\n",
       "      <td>0.0</td>\n",
       "      <td>0.0</td>\n",
       "    </tr>\n",
       "    <tr>\n",
       "      <th>AAACATACTGGAAA-1</th>\n",
       "      <td>0.0</td>\n",
       "      <td>0.0</td>\n",
       "      <td>0.0</td>\n",
       "      <td>0.0</td>\n",
       "      <td>0.0</td>\n",
       "      <td>0.0</td>\n",
       "      <td>0.0</td>\n",
       "      <td>0.0</td>\n",
       "      <td>0.0</td>\n",
       "      <td>0.0</td>\n",
       "      <td>...</td>\n",
       "      <td>0.0</td>\n",
       "      <td>0.0</td>\n",
       "      <td>0.0</td>\n",
       "      <td>0.0</td>\n",
       "      <td>0.0</td>\n",
       "      <td>0.0</td>\n",
       "      <td>0.0</td>\n",
       "      <td>0.0</td>\n",
       "      <td>0.0</td>\n",
       "      <td>0.0</td>\n",
       "    </tr>\n",
       "  </tbody>\n",
       "</table>\n",
       "<p>5 rows × 33694 columns</p>\n",
       "</div>"
      ],
      "text/plain": [
       "                  RP11-34P13.3 (ENSG00000243485)  FAM138A (ENSG00000237613)  \\\n",
       "0                                                                             \n",
       "AAACATACACCCAA-1                             0.0                        0.0   \n",
       "AAACATACCGAGTT-1                             0.0                        0.0   \n",
       "AAACATACGTAGCT-1                             0.0                        0.0   \n",
       "AAACATACGTCCTC-1                             0.0                        0.0   \n",
       "AAACATACTGGAAA-1                             0.0                        0.0   \n",
       "\n",
       "                  OR4F5 (ENSG00000186092)  RP11-34P13.7 (ENSG00000238009)  \\\n",
       "0                                                                           \n",
       "AAACATACACCCAA-1                      0.0                             0.0   \n",
       "AAACATACCGAGTT-1                      0.0                             0.0   \n",
       "AAACATACGTAGCT-1                      0.0                             0.0   \n",
       "AAACATACGTCCTC-1                      0.0                             0.0   \n",
       "AAACATACTGGAAA-1                      0.0                             0.0   \n",
       "\n",
       "                  RP11-34P13.8 (ENSG00000239945)  \\\n",
       "0                                                  \n",
       "AAACATACACCCAA-1                             0.0   \n",
       "AAACATACCGAGTT-1                             0.0   \n",
       "AAACATACGTAGCT-1                             0.0   \n",
       "AAACATACGTCCTC-1                             0.0   \n",
       "AAACATACTGGAAA-1                             0.0   \n",
       "\n",
       "                  RP11-34P13.14 (ENSG00000239906)  \\\n",
       "0                                                   \n",
       "AAACATACACCCAA-1                              0.0   \n",
       "AAACATACCGAGTT-1                              0.0   \n",
       "AAACATACGTAGCT-1                              0.0   \n",
       "AAACATACGTCCTC-1                              0.0   \n",
       "AAACATACTGGAAA-1                              0.0   \n",
       "\n",
       "                  RP11-34P13.9 (ENSG00000241599)  \\\n",
       "0                                                  \n",
       "AAACATACACCCAA-1                             0.0   \n",
       "AAACATACCGAGTT-1                             0.0   \n",
       "AAACATACGTAGCT-1                             0.0   \n",
       "AAACATACGTCCTC-1                             0.0   \n",
       "AAACATACTGGAAA-1                             0.0   \n",
       "\n",
       "                  FO538757.3 (ENSG00000279928)  FO538757.2 (ENSG00000279457)  \\\n",
       "0                                                                              \n",
       "AAACATACACCCAA-1                           0.0                           0.0   \n",
       "AAACATACCGAGTT-1                           0.0                           1.0   \n",
       "AAACATACGTAGCT-1                           0.0                           0.0   \n",
       "AAACATACGTCCTC-1                           0.0                           0.0   \n",
       "AAACATACTGGAAA-1                           0.0                           0.0   \n",
       "\n",
       "                  AP006222.2 (ENSG00000228463)  ...  \\\n",
       "0                                               ...   \n",
       "AAACATACACCCAA-1                           0.0  ...   \n",
       "AAACATACCGAGTT-1                           1.0  ...   \n",
       "AAACATACGTAGCT-1                           0.0  ...   \n",
       "AAACATACGTCCTC-1                           0.0  ...   \n",
       "AAACATACTGGAAA-1                           0.0  ...   \n",
       "\n",
       "                  AC007325.2 (ENSG00000277196)  BX072566.1 (ENSG00000277630)  \\\n",
       "0                                                                              \n",
       "AAACATACACCCAA-1                           0.0                           0.0   \n",
       "AAACATACCGAGTT-1                           0.0                           0.0   \n",
       "AAACATACGTAGCT-1                           0.0                           0.0   \n",
       "AAACATACGTCCTC-1                           0.0                           0.0   \n",
       "AAACATACTGGAAA-1                           0.0                           0.0   \n",
       "\n",
       "                  AL354822.1 (ENSG00000278384)  AC023491.2 (ENSG00000278633)  \\\n",
       "0                                                                              \n",
       "AAACATACACCCAA-1                           0.0                           0.0   \n",
       "AAACATACCGAGTT-1                           0.0                           0.0   \n",
       "AAACATACGTAGCT-1                           0.0                           0.0   \n",
       "AAACATACGTCCTC-1                           0.0                           0.0   \n",
       "AAACATACTGGAAA-1                           0.0                           0.0   \n",
       "\n",
       "                  AC004556.1 (ENSG00000276345)  AC233755.2 (ENSG00000277856)  \\\n",
       "0                                                                              \n",
       "AAACATACACCCAA-1                           0.0                           0.0   \n",
       "AAACATACCGAGTT-1                           0.0                           0.0   \n",
       "AAACATACGTAGCT-1                           0.0                           0.0   \n",
       "AAACATACGTCCTC-1                           0.0                           0.0   \n",
       "AAACATACTGGAAA-1                           0.0                           0.0   \n",
       "\n",
       "                  AC233755.1 (ENSG00000275063)  AC240274.1 (ENSG00000271254)  \\\n",
       "0                                                                              \n",
       "AAACATACACCCAA-1                           0.0                           0.0   \n",
       "AAACATACCGAGTT-1                           0.0                           0.0   \n",
       "AAACATACGTAGCT-1                           0.0                           0.0   \n",
       "AAACATACGTCCTC-1                           0.0                           1.0   \n",
       "AAACATACTGGAAA-1                           0.0                           0.0   \n",
       "\n",
       "                  AC213203.1 (ENSG00000277475)  FAM231B (ENSG00000268674)  \n",
       "0                                                                          \n",
       "AAACATACACCCAA-1                           0.0                        0.0  \n",
       "AAACATACCGAGTT-1                           0.0                        0.0  \n",
       "AAACATACGTAGCT-1                           0.0                        0.0  \n",
       "AAACATACGTCCTC-1                           0.0                        0.0  \n",
       "AAACATACTGGAAA-1                           0.0                        0.0  \n",
       "\n",
       "[5 rows x 33694 columns]"
      ]
     },
     "execution_count": 12,
     "metadata": {},
     "output_type": "execute_result"
    }
   ],
   "source": [
    "sparse=True\n",
    "data_time1 = scprep.io.load_10X(os.path.join(download_path, \"scRNAseq\", \"T0_1A\"), sparse=sparse, gene_labels='both')\n",
    "data_time2 = scprep.io.load_10X(os.path.join(download_path, \"scRNAseq\", \"T2_3B\"), sparse=sparse, gene_labels='both')\n",
    "data_time3 = scprep.io.load_10X(os.path.join(download_path, \"scRNAseq\", \"T4_5C\"), sparse=sparse, gene_labels='both')\n",
    "data_time4 = scprep.io.load_10X(os.path.join(download_path, \"scRNAseq\", \"T6_7D\"), sparse=sparse, gene_labels='both')\n",
    "data_time5 = scprep.io.load_10X(os.path.join(download_path, \"scRNAseq\", \"T8_9E\"), sparse=sparse, gene_labels='both')\n",
    "data_time5.head()"
   ]
  },
  {
   "cell_type": "markdown",
   "metadata": {
    "id": "77XS07XVacXH"
   },
   "source": [
    "### 2.3. Library size filtering\n",
    "\n",
    "#### Why we filter cells by library size\n",
    "In scRNA-seq the library size of a cell is the number of unique mRNA molecules detected in that cell. These unique molecules are identified using a random barcode incorporated during the first round of reverse transcription. This barcode is called a <b>U</b>nique <b>M</b>olecule <b>I</b>dentifier, and often we refer to the number unique mRNAs in a cell as the number of UMIs. To read more about UMIs, [Smith *et al.* (2017)](https://www.ncbi.nlm.nih.gov/pmc/articles/PMC5340976/) write about how sequencing errors and PCR amplification errors lead to innaccurate quantification of UMIs/cell.\n",
    "\n",
    "Depending on the method of scRNA-seq, the amount of library size filtering done can vary. The 10X Genomics CellRanger tool, the DropSeq and InDrops pipelines, and the Umitools package each have their own method and cutoff for determining real cells from empty droplets. Additional methods exist for trying to detect the difference between droplets containing one cell and droplets containing two cells (\"doublets\"). You can take these methods at face value or set some manual cutoffs based on your data.\n",
    "\n",
    "#### Visualing the library size distribution using `scprep`\n",
    "\n",
    "There is a helper function for plotting library size from a gene expression matrix in scprep called [`scprep.plot.plot_library_size()`](https://scprep.readthedocs.io/en/stable/reference.html#scprep.plot.plot_library_size).\n",
    "\n",
    "Let's have a look at the library size for the first time point. In this sample we see that there is a small number of cells with very small library sizes and a long tail of cells that have very high library sizes."
   ]
  },
  {
   "cell_type": "code",
   "execution_count": 13,
   "metadata": {
    "id": "lg6jXB-IacXI",
    "scrolled": true
   },
   "outputs": [
    {
     "data": {
      "text/plain": [
       "<matplotlib.axes._subplots.AxesSubplot at 0x1a353ec250>"
      ]
     },
     "execution_count": 13,
     "metadata": {},
     "output_type": "execute_result"
    },
    {
     "data": {
      "image/png": "[encoded data removed]",
      "text/plain": [
       "<Figure size 432x288 with 1 Axes>"
      ]
     },
     "metadata": {
      "needs_background": "light"
     },
     "output_type": "display_data"
    }
   ],
   "source": [
    "scprep.plot.plot_library_size(data_time1,\n",
    "                              log=False, title='Library Size Before Filtering')"
   ]
  },
  {
   "cell_type": "markdown",
   "metadata": {
    "id": "40W8letTqTta"
   },
   "source": [
    "Choose cutoffs above and below the main bulk of cells, removing cells that are both significantly smaller than average and significantly larger than average. You can plot the result by running `scprep.plot.plot_library_size` with `cutoff=(low, high)` or `percentile=(low, high)` where low and high are values or percentiles that you choose."
   ]
  },
  {
   "cell_type": "code",
   "execution_count": 14,
   "metadata": {
    "id": "JosE60-6qTtb"
   },
   "outputs": [
    {
     "data": {
      "text/plain": [
       "<matplotlib.axes._subplots.AxesSubplot at 0x1a35054790>"
      ]
     },
     "execution_count": 14,
     "metadata": {},
     "output_type": "execute_result"
    },
    {
     "data": {
      "image/png": "[encoded data removed]",
      "text/plain": [
       "<Figure size 432x288 with 1 Axes>"
      ]
     },
     "metadata": {
      "needs_background": "light"
     },
     "output_type": "display_data"
    }
   ],
   "source": [
    "# =============\n",
    "# Select appropriate percentiles (percentile=(low, high))\n",
    "# for filtering and plot the result\n",
    "scprep.plot.plot_library_size(data_time1,\n",
    "                              percentile = (20,80))\n",
    "# ============="
   ]
  },
  {
   "cell_type": "markdown",
   "metadata": {
    "id": "YG4_xhXt7RQb"
   },
   "source": [
    "#### Selecting a cutoff\n",
    "\n",
    "Several papers describe strategies for picking a maximum and minimum threshold that can be found with a quick Google search for \"library size threshold single cell RNA seq\".\n",
    "\n",
    "Most of these pick an arbitrary measure such as a certain number of deviations below or above the mean or median library size. We find that spending too much time worrying about the exact threshold is inefficient, as results tend to be robust to filtering beyond some minimum threshold.\n",
    "\n",
    "For the above dataset, we recommend removing all cells with more than 12,000 UMI / cell in fear they might represent doublets of cells. We generally also remove all cells with fewer than 1000 UMIs per cell.\n",
    "\n",
    "### Exercise 1 - Filtering cells by library size\n",
    "\n",
    "You can do this using [`scprep.filter.filter_library_size()`](https://scprep.readthedocs.io/en/stable/reference.html#scprep.filter.filter_library_size)."
   ]
  },
  {
   "cell_type": "code",
   "execution_count": 15,
   "metadata": {
    "id": "o_ucsSK9acXO"
   },
   "outputs": [],
   "source": [
    "filtered_batches = []\n",
    "for batch in [data_time1, data_time2, data_time3, data_time4, data_time5]:\n",
    "    # ==================\n",
    "    # fill in your chosen `percentile` values\n",
    "    percentiles = (20, 80)\n",
    "    batch = scprep.filter.filter_library_size(batch, percentile=percentiles)\n",
    "    # ==================\n",
    "    filtered_batches.append(batch)\n",
    "del data_time1, data_time2, data_time3, data_time4, data_time5 # removes objects from memory"
   ]
  },
  {
   "cell_type": "markdown",
   "metadata": {
    "id": "LqhJBJeFqTtb"
   },
   "source": [
    "**Note:** If you are going to use `percentile` filter, you need to do the filtering individually for each sample.  If you are going to do filtering using hard numbers like _remove all cells with more than 12000 UMI/cell,_ you can do it for all the data together."
   ]
  },
  {
   "cell_type": "code",
   "execution_count": 16,
   "metadata": {
    "id": "w9GKIljH4S05"
   },
   "outputs": [
    {
     "data": {
      "text/plain": [
       "<matplotlib.axes._subplots.AxesSubplot at 0x1a5e38be90>"
      ]
     },
     "execution_count": 16,
     "metadata": {},
     "output_type": "execute_result"
    },
    {
     "data": {
      "image/png": "[encoded data removed]",
      "text/plain": [
       "<Figure size 432x288 with 1 Axes>"
      ]
     },
     "metadata": {
      "needs_background": "light"
     },
     "output_type": "display_data"
    }
   ],
   "source": [
    "scprep.plot.plot_library_size(filtered_batches[0], log=False, range=(0,30000),\n",
    "                              title='Library size after filtering')"
   ]
  },
  {
   "cell_type": "markdown",
   "metadata": {
    "id": "WwodBmVVqTtb"
   },
   "source": [
    "The library size distribution is now much more constrained, which will reduce the effects of differences in library size (which can affect your results, even after normalization)."
   ]
  },
  {
   "cell_type": "markdown",
   "metadata": {
    "id": "JQoJnFVxacXW"
   },
   "source": [
    "### 2.4. Merge all datasets and create a vector representing the time point of each sample\n",
    "\n",
    "Now that we have filtered the datasets by library size, we can combine them into a single matrix. You can do this with [`scprep.utils.combine_batches()`](https://scprep.readthedocs.io/en/stable/reference.html#scprep.utils.combine_batches)."
   ]
  },
  {
   "cell_type": "code",
   "execution_count": 17,
   "metadata": {
    "id": "FJdO1NcKacXX"
   },
   "outputs": [
    {
     "data": {
      "text/plain": [
       "(18691, 33694)"
      ]
     },
     "execution_count": 17,
     "metadata": {},
     "output_type": "execute_result"
    }
   ],
   "source": [
    "data, sample_labels = scprep.utils.combine_batches(\n",
    "    filtered_batches, \n",
    "    [\"Day 00-03\", \"Day 06-09\", \"Day 12-15\", \"Day 18-21\", \"Day 24-27\"]\n",
    ")\n",
    "del filtered_batches # removes objects from memory\n",
    "data.shape"
   ]
  },
  {
   "cell_type": "markdown",
   "metadata": {
    "id": "aOjnehp_qTtc"
   },
   "source": [
    "After combining batches, we have ~25,000 cells and 33,700 genes. Let's have a quick look at the combined matrix."
   ]
  },
  {
   "cell_type": "code",
   "execution_count": 18,
   "metadata": {
    "id": "7oxqP7pfqTtc"
   },
   "outputs": [
    {
     "data": {
      "text/html": [
       "<div>\n",
       "<style scoped>\n",
       "    .dataframe tbody tr th:only-of-type {\n",
       "        vertical-align: middle;\n",
       "    }\n",
       "\n",
       "    .dataframe tbody tr th {\n",
       "        vertical-align: top;\n",
       "    }\n",
       "\n",
       "    .dataframe thead th {\n",
       "        text-align: right;\n",
       "    }\n",
       "</style>\n",
       "<table border=\"1\" class=\"dataframe\">\n",
       "  <thead>\n",
       "    <tr style=\"text-align: right;\">\n",
       "      <th></th>\n",
       "      <th>A1BG (ENSG00000121410)</th>\n",
       "      <th>A1BG-AS1 (ENSG00000268895)</th>\n",
       "      <th>A1CF (ENSG00000148584)</th>\n",
       "      <th>A2M (ENSG00000175899)</th>\n",
       "      <th>A2M-AS1 (ENSG00000245105)</th>\n",
       "      <th>A2ML1 (ENSG00000166535)</th>\n",
       "      <th>A2ML1-AS1 (ENSG00000256661)</th>\n",
       "      <th>A2ML1-AS2 (ENSG00000256904)</th>\n",
       "      <th>A3GALT2 (ENSG00000184389)</th>\n",
       "      <th>A4GALT (ENSG00000128274)</th>\n",
       "      <th>...</th>\n",
       "      <th>ZXDC (ENSG00000070476)</th>\n",
       "      <th>ZYG11A (ENSG00000203995)</th>\n",
       "      <th>ZYG11B (ENSG00000162378)</th>\n",
       "      <th>ZYX (ENSG00000159840)</th>\n",
       "      <th>ZZEF1 (ENSG00000074755)</th>\n",
       "      <th>ZZZ3 (ENSG00000036549)</th>\n",
       "      <th>bP-21264C1.2 (ENSG00000278932)</th>\n",
       "      <th>bP-2171C21.3 (ENSG00000279501)</th>\n",
       "      <th>bP-2189O9.3 (ENSG00000279579)</th>\n",
       "      <th>hsa-mir-1253 (ENSG00000272920)</th>\n",
       "    </tr>\n",
       "  </thead>\n",
       "  <tbody>\n",
       "    <tr>\n",
       "      <th>AAACATTGAAAGCA-1_Day 00-03</th>\n",
       "      <td>0.0</td>\n",
       "      <td>0.0</td>\n",
       "      <td>0.0</td>\n",
       "      <td>0.0</td>\n",
       "      <td>0.0</td>\n",
       "      <td>0.0</td>\n",
       "      <td>0.0</td>\n",
       "      <td>0.0</td>\n",
       "      <td>0.0</td>\n",
       "      <td>0.0</td>\n",
       "      <td>...</td>\n",
       "      <td>0.0</td>\n",
       "      <td>0.0</td>\n",
       "      <td>0.0</td>\n",
       "      <td>0.0</td>\n",
       "      <td>0.0</td>\n",
       "      <td>0.0</td>\n",
       "      <td>0.0</td>\n",
       "      <td>0.0</td>\n",
       "      <td>0.0</td>\n",
       "      <td>0.0</td>\n",
       "    </tr>\n",
       "    <tr>\n",
       "      <th>AAACCGTGCAGAAA-1_Day 00-03</th>\n",
       "      <td>0.0</td>\n",
       "      <td>0.0</td>\n",
       "      <td>0.0</td>\n",
       "      <td>0.0</td>\n",
       "      <td>0.0</td>\n",
       "      <td>0.0</td>\n",
       "      <td>0.0</td>\n",
       "      <td>0.0</td>\n",
       "      <td>0.0</td>\n",
       "      <td>0.0</td>\n",
       "      <td>...</td>\n",
       "      <td>0.0</td>\n",
       "      <td>0.0</td>\n",
       "      <td>0.0</td>\n",
       "      <td>0.0</td>\n",
       "      <td>0.0</td>\n",
       "      <td>0.0</td>\n",
       "      <td>0.0</td>\n",
       "      <td>0.0</td>\n",
       "      <td>0.0</td>\n",
       "      <td>0.0</td>\n",
       "    </tr>\n",
       "    <tr>\n",
       "      <th>AAACCGTGGAAGGC-1_Day 00-03</th>\n",
       "      <td>0.0</td>\n",
       "      <td>0.0</td>\n",
       "      <td>0.0</td>\n",
       "      <td>0.0</td>\n",
       "      <td>0.0</td>\n",
       "      <td>0.0</td>\n",
       "      <td>0.0</td>\n",
       "      <td>0.0</td>\n",
       "      <td>0.0</td>\n",
       "      <td>0.0</td>\n",
       "      <td>...</td>\n",
       "      <td>0.0</td>\n",
       "      <td>0.0</td>\n",
       "      <td>0.0</td>\n",
       "      <td>0.0</td>\n",
       "      <td>0.0</td>\n",
       "      <td>0.0</td>\n",
       "      <td>0.0</td>\n",
       "      <td>0.0</td>\n",
       "      <td>0.0</td>\n",
       "      <td>0.0</td>\n",
       "    </tr>\n",
       "    <tr>\n",
       "      <th>AAACGCACCGGTAT-1_Day 00-03</th>\n",
       "      <td>0.0</td>\n",
       "      <td>0.0</td>\n",
       "      <td>0.0</td>\n",
       "      <td>0.0</td>\n",
       "      <td>0.0</td>\n",
       "      <td>0.0</td>\n",
       "      <td>0.0</td>\n",
       "      <td>0.0</td>\n",
       "      <td>0.0</td>\n",
       "      <td>0.0</td>\n",
       "      <td>...</td>\n",
       "      <td>0.0</td>\n",
       "      <td>0.0</td>\n",
       "      <td>0.0</td>\n",
       "      <td>0.0</td>\n",
       "      <td>0.0</td>\n",
       "      <td>0.0</td>\n",
       "      <td>0.0</td>\n",
       "      <td>0.0</td>\n",
       "      <td>0.0</td>\n",
       "      <td>0.0</td>\n",
       "    </tr>\n",
       "    <tr>\n",
       "      <th>AAACGCACCTATTC-1_Day 00-03</th>\n",
       "      <td>0.0</td>\n",
       "      <td>0.0</td>\n",
       "      <td>0.0</td>\n",
       "      <td>0.0</td>\n",
       "      <td>0.0</td>\n",
       "      <td>0.0</td>\n",
       "      <td>0.0</td>\n",
       "      <td>0.0</td>\n",
       "      <td>0.0</td>\n",
       "      <td>0.0</td>\n",
       "      <td>...</td>\n",
       "      <td>0.0</td>\n",
       "      <td>0.0</td>\n",
       "      <td>0.0</td>\n",
       "      <td>1.0</td>\n",
       "      <td>0.0</td>\n",
       "      <td>0.0</td>\n",
       "      <td>0.0</td>\n",
       "      <td>0.0</td>\n",
       "      <td>0.0</td>\n",
       "      <td>0.0</td>\n",
       "    </tr>\n",
       "  </tbody>\n",
       "</table>\n",
       "<p>5 rows × 33694 columns</p>\n",
       "</div>"
      ],
      "text/plain": [
       "                            A1BG (ENSG00000121410)  \\\n",
       "AAACATTGAAAGCA-1_Day 00-03                     0.0   \n",
       "AAACCGTGCAGAAA-1_Day 00-03                     0.0   \n",
       "AAACCGTGGAAGGC-1_Day 00-03                     0.0   \n",
       "AAACGCACCGGTAT-1_Day 00-03                     0.0   \n",
       "AAACGCACCTATTC-1_Day 00-03                     0.0   \n",
       "\n",
       "                            A1BG-AS1 (ENSG00000268895)  \\\n",
       "AAACATTGAAAGCA-1_Day 00-03                         0.0   \n",
       "AAACCGTGCAGAAA-1_Day 00-03                         0.0   \n",
       "AAACCGTGGAAGGC-1_Day 00-03                         0.0   \n",
       "AAACGCACCGGTAT-1_Day 00-03                         0.0   \n",
       "AAACGCACCTATTC-1_Day 00-03                         0.0   \n",
       "\n",
       "                            A1CF (ENSG00000148584)  A2M (ENSG00000175899)  \\\n",
       "AAACATTGAAAGCA-1_Day 00-03                     0.0                    0.0   \n",
       "AAACCGTGCAGAAA-1_Day 00-03                     0.0                    0.0   \n",
       "AAACCGTGGAAGGC-1_Day 00-03                     0.0                    0.0   \n",
       "AAACGCACCGGTAT-1_Day 00-03                     0.0                    0.0   \n",
       "AAACGCACCTATTC-1_Day 00-03                     0.0                    0.0   \n",
       "\n",
       "                            A2M-AS1 (ENSG00000245105)  \\\n",
       "AAACATTGAAAGCA-1_Day 00-03                        0.0   \n",
       "AAACCGTGCAGAAA-1_Day 00-03                        0.0   \n",
       "AAACCGTGGAAGGC-1_Day 00-03                        0.0   \n",
       "AAACGCACCGGTAT-1_Day 00-03                        0.0   \n",
       "AAACGCACCTATTC-1_Day 00-03                        0.0   \n",
       "\n",
       "                            A2ML1 (ENSG00000166535)  \\\n",
       "AAACATTGAAAGCA-1_Day 00-03                      0.0   \n",
       "AAACCGTGCAGAAA-1_Day 00-03                      0.0   \n",
       "AAACCGTGGAAGGC-1_Day 00-03                      0.0   \n",
       "AAACGCACCGGTAT-1_Day 00-03                      0.0   \n",
       "AAACGCACCTATTC-1_Day 00-03                      0.0   \n",
       "\n",
       "                            A2ML1-AS1 (ENSG00000256661)  \\\n",
       "AAACATTGAAAGCA-1_Day 00-03                          0.0   \n",
       "AAACCGTGCAGAAA-1_Day 00-03                          0.0   \n",
       "AAACCGTGGAAGGC-1_Day 00-03                          0.0   \n",
       "AAACGCACCGGTAT-1_Day 00-03                          0.0   \n",
       "AAACGCACCTATTC-1_Day 00-03                          0.0   \n",
       "\n",
       "                            A2ML1-AS2 (ENSG00000256904)  \\\n",
       "AAACATTGAAAGCA-1_Day 00-03                          0.0   \n",
       "AAACCGTGCAGAAA-1_Day 00-03                          0.0   \n",
       "AAACCGTGGAAGGC-1_Day 00-03                          0.0   \n",
       "AAACGCACCGGTAT-1_Day 00-03                          0.0   \n",
       "AAACGCACCTATTC-1_Day 00-03                          0.0   \n",
       "\n",
       "                            A3GALT2 (ENSG00000184389)  \\\n",
       "AAACATTGAAAGCA-1_Day 00-03                        0.0   \n",
       "AAACCGTGCAGAAA-1_Day 00-03                        0.0   \n",
       "AAACCGTGGAAGGC-1_Day 00-03                        0.0   \n",
       "AAACGCACCGGTAT-1_Day 00-03                        0.0   \n",
       "AAACGCACCTATTC-1_Day 00-03                        0.0   \n",
       "\n",
       "                            A4GALT (ENSG00000128274)  ...  \\\n",
       "AAACATTGAAAGCA-1_Day 00-03                       0.0  ...   \n",
       "AAACCGTGCAGAAA-1_Day 00-03                       0.0  ...   \n",
       "AAACCGTGGAAGGC-1_Day 00-03                       0.0  ...   \n",
       "AAACGCACCGGTAT-1_Day 00-03                       0.0  ...   \n",
       "AAACGCACCTATTC-1_Day 00-03                       0.0  ...   \n",
       "\n",
       "                            ZXDC (ENSG00000070476)  ZYG11A (ENSG00000203995)  \\\n",
       "AAACATTGAAAGCA-1_Day 00-03                     0.0                       0.0   \n",
       "AAACCGTGCAGAAA-1_Day 00-03                     0.0                       0.0   \n",
       "AAACCGTGGAAGGC-1_Day 00-03                     0.0                       0.0   \n",
       "AAACGCACCGGTAT-1_Day 00-03                     0.0                       0.0   \n",
       "AAACGCACCTATTC-1_Day 00-03                     0.0                       0.0   \n",
       "\n",
       "                            ZYG11B (ENSG00000162378)  ZYX (ENSG00000159840)  \\\n",
       "AAACATTGAAAGCA-1_Day 00-03                       0.0                    0.0   \n",
       "AAACCGTGCAGAAA-1_Day 00-03                       0.0                    0.0   \n",
       "AAACCGTGGAAGGC-1_Day 00-03                       0.0                    0.0   \n",
       "AAACGCACCGGTAT-1_Day 00-03                       0.0                    0.0   \n",
       "AAACGCACCTATTC-1_Day 00-03                       0.0                    1.0   \n",
       "\n",
       "                            ZZEF1 (ENSG00000074755)  ZZZ3 (ENSG00000036549)  \\\n",
       "AAACATTGAAAGCA-1_Day 00-03                      0.0                     0.0   \n",
       "AAACCGTGCAGAAA-1_Day 00-03                      0.0                     0.0   \n",
       "AAACCGTGGAAGGC-1_Day 00-03                      0.0                     0.0   \n",
       "AAACGCACCGGTAT-1_Day 00-03                      0.0                     0.0   \n",
       "AAACGCACCTATTC-1_Day 00-03                      0.0                     0.0   \n",
       "\n",
       "                            bP-21264C1.2 (ENSG00000278932)  \\\n",
       "AAACATTGAAAGCA-1_Day 00-03                             0.0   \n",
       "AAACCGTGCAGAAA-1_Day 00-03                             0.0   \n",
       "AAACCGTGGAAGGC-1_Day 00-03                             0.0   \n",
       "AAACGCACCGGTAT-1_Day 00-03                             0.0   \n",
       "AAACGCACCTATTC-1_Day 00-03                             0.0   \n",
       "\n",
       "                            bP-2171C21.3 (ENSG00000279501)  \\\n",
       "AAACATTGAAAGCA-1_Day 00-03                             0.0   \n",
       "AAACCGTGCAGAAA-1_Day 00-03                             0.0   \n",
       "AAACCGTGGAAGGC-1_Day 00-03                             0.0   \n",
       "AAACGCACCGGTAT-1_Day 00-03                             0.0   \n",
       "AAACGCACCTATTC-1_Day 00-03                             0.0   \n",
       "\n",
       "                            bP-2189O9.3 (ENSG00000279579)  \\\n",
       "AAACATTGAAAGCA-1_Day 00-03                            0.0   \n",
       "AAACCGTGCAGAAA-1_Day 00-03                            0.0   \n",
       "AAACCGTGGAAGGC-1_Day 00-03                            0.0   \n",
       "AAACGCACCGGTAT-1_Day 00-03                            0.0   \n",
       "AAACGCACCTATTC-1_Day 00-03                            0.0   \n",
       "\n",
       "                            hsa-mir-1253 (ENSG00000272920)  \n",
       "AAACATTGAAAGCA-1_Day 00-03                             0.0  \n",
       "AAACCGTGCAGAAA-1_Day 00-03                             0.0  \n",
       "AAACCGTGGAAGGC-1_Day 00-03                             0.0  \n",
       "AAACGCACCGGTAT-1_Day 00-03                             0.0  \n",
       "AAACGCACCTATTC-1_Day 00-03                             0.0  \n",
       "\n",
       "[5 rows x 33694 columns]"
      ]
     },
     "execution_count": 18,
     "metadata": {},
     "output_type": "execute_result"
    }
   ],
   "source": [
    "data.head()"
   ]
  },
  {
   "cell_type": "markdown",
   "metadata": {
    "id": "JtUGsZlLqTtc"
   },
   "source": [
    "Now we have one matrix containing all five time points of the experiment, and a vector (`sample_labels`) telling us which cells (rows) came from which time point. As you can see, the time point is also appended to the cell barcode."
   ]
  },
  {
   "cell_type": "code",
   "execution_count": 19,
   "metadata": {
    "id": "db2CuSSYqTtc"
   },
   "outputs": [
    {
     "data": {
      "text/plain": [
       "AAACATTGAAAGCA-1_Day 00-03    Day 00-03\n",
       "AAACCGTGCAGAAA-1_Day 00-03    Day 00-03\n",
       "AAACCGTGGAAGGC-1_Day 00-03    Day 00-03\n",
       "AAACGCACCGGTAT-1_Day 00-03    Day 00-03\n",
       "AAACGCACCTATTC-1_Day 00-03    Day 00-03\n",
       "                                ...    \n",
       "TTTCTACTCTTATC-1_Day 24-27    Day 24-27\n",
       "TTTCTACTTGAGCT-1_Day 24-27    Day 24-27\n",
       "TTTGCATGATGACC-1_Day 24-27    Day 24-27\n",
       "TTTGCATGCACTCC-1_Day 24-27    Day 24-27\n",
       "TTTGCATGTTCTTG-1_Day 24-27    Day 24-27\n",
       "Name: sample_labels, Length: 18691, dtype: object"
      ]
     },
     "execution_count": 19,
     "metadata": {},
     "output_type": "execute_result"
    }
   ],
   "source": [
    "sample_labels"
   ]
  },
  {
   "cell_type": "markdown",
   "metadata": {
    "id": "wYLU9qsDqTtc"
   },
   "source": [
    "Finally, because the Google Colab client is not the most powerful client, we'll subsample this dataset to allow you to run the preprocessing steps a little more quickly."
   ]
  },
  {
   "cell_type": "code",
   "execution_count": 20,
   "metadata": {
    "id": "0MkoJRJwqTtd"
   },
   "outputs": [],
   "source": [
    "data, sample_labels = scprep.select.subsample(data, sample_labels, n=10000)"
   ]
  },
  {
   "cell_type": "code",
   "execution_count": 21,
   "metadata": {
    "id": "jiPU3jeeqTtd"
   },
   "outputs": [
    {
     "data": {
      "text/plain": [
       "((10000, 33694), (10000,))"
      ]
     },
     "execution_count": 21,
     "metadata": {},
     "output_type": "execute_result"
    }
   ],
   "source": [
    "data.shape, sample_labels.shape"
   ]
  },
  {
   "cell_type": "markdown",
   "metadata": {
    "id": "pTOApTjKqTtd"
   },
   "source": [
    "#### Batch effects\n",
    "\n",
    "It's worth noting here that we have combined five different experiments into one data matrix here, and in doing so potentially exposed ourself to a \"batch effect\". A batch effect is a difference (technical or biological) between two batches of an experiment. This can be caused by systematic error (e.g. a difference in temperature during library preparation) or a genuine biological effect of interest (e.g. in this case each batch is sampled at a different time of development.)\n",
    "\n",
    "Correcting for technical / systematic batch effects is a topic unto itself which we will cover later in the workshop; however it's worth noting that any time we combine multiple experiments, we should check to see if they are substantially different and compare this to our expectations. If the effect is large and unexpected, we can either a) attempt to correct it / account for it using computational methods, or b) modify our analysis to avoid combining the datasets."
   ]
  },
  {
   "cell_type": "markdown",
   "metadata": {
    "id": "_JRV2qy4qTtd"
   },
   "source": [
    "### Discussion\n",
    "\n",
    "1. Why do we remove cells with low UMI count (or library size)?\n",
    "\n",
    "Cells with a low UMI count (or low library size) have a higher chance of being empty droplets.\n",
    "\n",
    "2. Why do we remove cells with high UMI count (or library size)?\n",
    "\n",
    "Cells with a high UMI count (or low library size) have a higher chance of being a doublet (containing two cells)."
   ]
  },
  {
   "cell_type": "markdown",
   "metadata": {
    "collapsed": true,
    "id": "pGrC9YiEacXc"
   },
   "source": [
    "<a id='preprocessing'></a>\n",
    "## 3. Preprocessing: Filtering, Normalizing, and Transforming\n",
    "\n",
    "All of these steps are carried out on the whole combined data.\n",
    "\n",
    "### Filtering\n",
    "\n",
    "We filter the data by: \n",
    "1. Removing dead cells  \n",
    "2. Filtering by library size (if we did not do this prior to combining batches)\n",
    "3. Removing genes that are expressed in relatively few cells."
   ]
  },
  {
   "cell_type": "markdown",
   "metadata": {
    "collapsed": true,
    "id": "3e3m5x8LacXd"
   },
   "source": [
    "### 3.1 Dead cell removal\n",
    "\n",
    "#### What does high mitochondrial gene expression indicate?\n",
    "\n",
    "Generally, we assume that cells with high detection of mitochondrial RNAs have undergone degradation of the mitochondrial membrane as a result of apoptosis. This may be from stress during dissociation, culture, or really anywhere in the experimental pipeline. As with the high and low library size cells, we want to remove the long tail from the distribution. In a successful experiment, it's typical for 5-10% of the cells to have this apoptotic signature.\n",
    "\n",
    "#### Plotting mitochondrial expression\n",
    "\n",
    "Let's look at the mitochondrial expression. You can do this using [`scprep.plot.plot_gene_set_expression()`](https://scprep.readthedocs.io/en/stable/reference.html#scprep.plot.plot_gene_set_expression), which conveniently gets you the list of mitochrondrial genes by name using the helper function [`scprep.select.get_gene_set()`](https://scprep.readthedocs.io/en/stable/reference.html#scprep.select.get_gene_set)."
   ]
  },
  {
   "cell_type": "code",
   "execution_count": 22,
   "metadata": {
    "id": "1ZKa468GacXe",
    "scrolled": true
   },
   "outputs": [
    {
     "data": {
      "text/plain": [
       "<matplotlib.axes._subplots.AxesSubplot at 0x1a5e1a4f90>"
      ]
     },
     "execution_count": 22,
     "metadata": {},
     "output_type": "execute_result"
    },
    {
     "data": {
      "image/png": "[encoded data removed]",
      "text/plain": [
       "<Figure size 432x288 with 1 Axes>"
      ]
     },
     "metadata": {
      "needs_background": "light"
     },
     "output_type": "display_data"
    }
   ],
   "source": [
    "# Plot all mitochondrial genes. There are 14, FYI.\n",
    "scprep.plot.plot_gene_set_expression(data, starts_with=\"MT-\",\n",
    "                                     library_size_normalize=True,\n",
    "                                     title=\"Mitochrondrial expression before filtering\")"
   ]
  },
  {
   "cell_type": "markdown",
   "metadata": {
    "id": "3PBCeKuPacXh"
   },
   "source": [
    "Here we see that above some threshold, there is a steep increase in expression of mitochondrial RNAs. We'll remove these cells from further analysis. Choose a cut-off based on the histogram above and plot your chosen value on a new histogram.\n",
    "\n",
    "### Exercise 2 - filtering dead cells by mitochondrial expression"
   ]
  },
  {
   "cell_type": "code",
   "execution_count": 23,
   "metadata": {
    "id": "mUUN_nWgqTte"
   },
   "outputs": [
    {
     "data": {
      "text/plain": [
       "<matplotlib.axes._subplots.AxesSubplot at 0x1a5c550f90>"
      ]
     },
     "execution_count": 23,
     "metadata": {},
     "output_type": "execute_result"
    },
    {
     "data": {
      "image/png": "[encoded data removed]",
      "text/plain": [
       "<Figure size 432x288 with 1 Axes>"
      ]
     },
     "metadata": {
      "needs_background": "light"
     },
     "output_type": "display_data"
    }
   ],
   "source": [
    "# ================\n",
    "# choose a cutoff at which to plot a red line such that you\n",
    "# remove cells with aberrant mitochondrial expression\n",
    "scprep.plot.plot_gene_set_expression(data,\n",
    "                                     starts_with='MT-',\n",
    "                                     library_size_normalize=True,\n",
    "                                     cutoff = 400)\n",
    "# ================"
   ]
  },
  {
   "cell_type": "markdown",
   "metadata": {
    "id": "jL7kaODdqTte"
   },
   "source": [
    "Now we can remove those cells."
   ]
  },
  {
   "cell_type": "code",
   "execution_count": 24,
   "metadata": {
    "id": "IYhfs7y9acXi"
   },
   "outputs": [
    {
     "data": {
      "text/plain": [
       "(9721, 33694)"
      ]
     },
     "execution_count": 24,
     "metadata": {},
     "output_type": "execute_result"
    }
   ],
   "source": [
    "# ================\n",
    "# Fill in your chosen cutoff value\n",
    "cutoff = 400\n",
    "# ================\n",
    "data_filt, sample_labels = scprep.filter.filter_gene_set_expression(\n",
    "    data, sample_labels, starts_with=\"MT-\",\n",
    "    cutoff=cutoff, keep_cells='below', library_size_normalize=True)\n",
    "data_filt.shape"
   ]
  },
  {
   "cell_type": "markdown",
   "metadata": {
    "id": "r3j6cnebqTte"
   },
   "source": [
    "After removing the top 10\\% of cells by mitochrondrial expression, we're left with 9,000 cells. Let's look at that histogram again."
   ]
  },
  {
   "cell_type": "code",
   "execution_count": 25,
   "metadata": {
    "id": "H3eBjuXWqTte"
   },
   "outputs": [
    {
     "data": {
      "text/plain": [
       "<matplotlib.axes._subplots.AxesSubplot at 0x1a325cbad0>"
      ]
     },
     "execution_count": 25,
     "metadata": {},
     "output_type": "execute_result"
    },
    {
     "data": {
      "image/png": "[encoded data removed]",
      "text/plain": [
       "<Figure size 432x288 with 1 Axes>"
      ]
     },
     "metadata": {
      "needs_background": "light"
     },
     "output_type": "display_data"
    }
   ],
   "source": [
    "scprep.plot.plot_gene_set_expression(data_filt, starts_with=\"MT-\",\n",
    "                                     library_size_normalize=True,\n",
    "                                     title=\"Mitochrondrial expression after filtering\")"
   ]
  },
  {
   "cell_type": "markdown",
   "metadata": {
    "id": "VvgzC-fNqTte"
   },
   "source": [
    "Much better! We have a tight distribution without a long tail, indicating that all of our cells have relatively normal mitochondrial expression."
   ]
  },
  {
   "cell_type": "markdown",
   "metadata": {
    "collapsed": true,
    "id": "ZxLVx9q1acXo"
   },
   "source": [
    "### 3.2 - Filtering lowly expressed genes\n",
    "\n",
    "#### Why remove lowly expressed genes?\n",
    "\n",
    "Capturing RNA from single cells is a noisy process. The first round of reverse transcription is done in the presence of cell lysate. This results in capture of only 10-40% of the mRNA molecules in a cell leading to a phenomenon called dropout where some lowly expressed genes are not detected in cells in which they are expressed [[1](https://www.ncbi.nlm.nih.gov/pmc/articles/PMC5561556/#CR13), [2](https://www.ncbi.nlm.nih.gov/pmc/articles/PMC5561556/#CR44), [3](https://www.ncbi.nlm.nih.gov/pmc/articles/PMC5561556/#CR64), [4](https://www.ncbi.nlm.nih.gov/pmc/articles/PMC5561556/#CR65)]. As a result, some genes are so lowly expressed (or expressed not at all) that we do not have sufficient observations of that gene to make any inferences on its expression.\n",
    "\n",
    "Lowly expressed genes that may only be represented by a handful of mRNAs may not appear in a given dataset. Others might only be present in a small number of cells. Because we lack sufficient information about these genes, we remove lowly expressed genes from the gene expression matrix during preprocessing. Typically, if a gene is detected in only very few cells, it gets removed.\n",
    "\n",
    "Here, we can see that in EB dataset, there are many genes that are detected in very few cells."
   ]
  },
  {
   "cell_type": "code",
   "execution_count": 26,
   "metadata": {
    "id": "3BWHw6frqTte"
   },
   "outputs": [
    {
     "data": {
      "text/plain": [
       "<matplotlib.axes._subplots.AxesSubplot at 0x1a5db8f390>"
      ]
     },
     "execution_count": 26,
     "metadata": {},
     "output_type": "execute_result"
    },
    {
     "data": {
      "image/png": "[encoded data removed]",
      "text/plain": [
       "<Figure size 432x288 with 1 Axes>"
      ]
     },
     "metadata": {
      "needs_background": "light"
     },
     "output_type": "display_data"
    }
   ],
   "source": [
    "scprep.plot.histogram(scprep.measure.gene_capture_count(data_filt), log=True,\n",
    "                      title=\"Gene capture before filtering\",\n",
    "                     xlabel='# of cells with nonzero expression',\n",
    "                     ylabel='# of genes')"
   ]
  },
  {
   "cell_type": "markdown",
   "metadata": {
    "id": "GZQULUvkqTtf"
   },
   "source": [
    "Again, we see a relatively clean distribution on the right (genes observed in many cells) with a heavy tail on the right (rare genes).\n",
    "\n",
    "It may be best to cut off at a value of 10.\n",
    "\n",
    "### Exercise 3 - filtering rare genes"
   ]
  },
  {
   "cell_type": "code",
   "execution_count": 28,
   "metadata": {
    "id": "Q_NuMupWqTtf"
   },
   "outputs": [
    {
     "data": {
      "text/plain": [
       "<matplotlib.axes._subplots.AxesSubplot at 0x1a2ee23a10>"
      ]
     },
     "execution_count": 28,
     "metadata": {},
     "output_type": "execute_result"
    },
    {
     "data": {
      "image/png": "[encoded data removed]",
      "text/plain": [
       "<Figure size 432x288 with 1 Axes>"
      ]
     },
     "metadata": {
      "needs_background": "light"
     },
     "output_type": "display_data"
    }
   ],
   "source": [
    "# ================\n",
    "# choose a cutoff\n",
    "scprep.plot.histogram(scprep.measure.gene_capture_count(data_filt), cutoff = 10,\n",
    "                      log=True,\n",
    "                      title=\"Gene capture before filtering\",\n",
    "                     xlabel='# of cells with nonzero expression',\n",
    "                     ylabel='# of genes')\n",
    "# ================"
   ]
  },
  {
   "cell_type": "markdown",
   "metadata": {
    "id": "GQg37HgsqTtf"
   },
   "source": [
    "Let's go ahead and remove those genes."
   ]
  },
  {
   "cell_type": "code",
   "execution_count": 29,
   "metadata": {
    "id": "9pyvgVwracXq"
   },
   "outputs": [],
   "source": [
    "# ================\n",
    "# choose a cutoff\n",
    "cutoff = 10\n",
    "data_filt = scprep.filter.filter_rare_genes(data_filt, min_cells=cutoff)\n",
    "# ================"
   ]
  },
  {
   "cell_type": "markdown",
   "metadata": {
    "id": "-AERV54QqTtf"
   },
   "source": [
    "We can plot the above histogram again for good measure. As you can see, the rare genes are all gone."
   ]
  },
  {
   "cell_type": "code",
   "execution_count": 30,
   "metadata": {
    "id": "8yjMrq5bqTtf"
   },
   "outputs": [
    {
     "data": {
      "text/plain": [
       "<matplotlib.axes._subplots.AxesSubplot at 0x1a5bad4550>"
      ]
     },
     "execution_count": 30,
     "metadata": {},
     "output_type": "execute_result"
    },
    {
     "data": {
      "image/png": "[encoded data removed]",
      "text/plain": [
       "<Figure size 432x288 with 1 Axes>"
      ]
     },
     "metadata": {
      "needs_background": "light"
     },
     "output_type": "display_data"
    }
   ],
   "source": [
    "scprep.plot.histogram(scprep.measure.gene_capture_count(data_filt), cutoff=cutoff, log=True,\n",
    "                      title=\"Gene capture after filtering\",\n",
    "                     xlabel='# of cells with nonzero expression',\n",
    "                     ylabel='# of genes')"
   ]
  },
  {
   "cell_type": "code",
   "execution_count": 31,
   "metadata": {
    "id": "tiAyvPArqTtf"
   },
   "outputs": [
    {
     "data": {
      "text/plain": [
       "(9721, 16537)"
      ]
     },
     "execution_count": 31,
     "metadata": {},
     "output_type": "execute_result"
    }
   ],
   "source": [
    "data_filt.shape"
   ]
  },
  {
   "cell_type": "markdown",
   "metadata": {
    "id": "y6l-_geHqTtf"
   },
   "source": [
    "After filtering, we have removed many thousands of genes. This will be our last filtering step, though you can always filter out aberrant expression on an ad hoc basis. As it stands, we've quite significantly reduced our dataset from 10,000 x 33,000 that we started with. And that's not even counting the cells we removed by library size before combining time points!"
   ]
  },
  {
   "cell_type": "markdown",
   "metadata": {
    "id": "zTOt3GU2acXu"
   },
   "source": [
    "### 3.3 - Normalization\n",
    "\n",
    "As you saw during filtering, the range of library sizes between cells can be quite extreme. We visualized this for one time point pre-filtering, but let's now visualize the whole dataset, post-filtering."
   ]
  },
  {
   "cell_type": "code",
   "execution_count": 32,
   "metadata": {
    "id": "OrpoRgI1qTtg"
   },
   "outputs": [
    {
     "data": {
      "text/plain": [
       "<matplotlib.axes._subplots.AxesSubplot at 0x1a56559450>"
      ]
     },
     "execution_count": 32,
     "metadata": {},
     "output_type": "execute_result"
    },
    {
     "data": {
      "image/png": "[encoded data removed]",
      "text/plain": [
       "<Figure size 432x288 with 1 Axes>"
      ]
     },
     "metadata": {
      "needs_background": "light"
     },
     "output_type": "display_data"
    }
   ],
   "source": [
    "scprep.plot.plot_library_size(data_filt, title='Library size before normalization')"
   ]
  },
  {
   "cell_type": "markdown",
   "metadata": {
    "id": "A8ZtVoeZqTtg"
   },
   "source": [
    "To correct for differences in library sizes, we divide each cell by its library size and then rescale by the a fixed value, sometimes the median library size. The default in `scprep` is to rescale every cell to 10,000 counts to make numbers comparable across datasets.\n",
    "\n",
    "In python this is performed using the preprocessing method [`scprep.normalize.library_size_normalize()`](https://scprep.readthedocs.io/en/stable/reference.html#scprep.normalize.library_size_normalize)."
   ]
  },
  {
   "cell_type": "code",
   "execution_count": 33,
   "metadata": {
    "id": "The5qKgGacXw"
   },
   "outputs": [],
   "source": [
    "data_norm, library_size = scprep.normalize.library_size_normalize(data_filt, return_library_size=True)"
   ]
  },
  {
   "cell_type": "markdown",
   "metadata": {
    "id": "CBQcrq0hqTtg"
   },
   "source": [
    "If you plot the library sizes again, you'll see they are all the same."
   ]
  },
  {
   "cell_type": "code",
   "execution_count": 34,
   "metadata": {
    "id": "MCldvF3mqTtg"
   },
   "outputs": [
    {
     "data": {
      "text/plain": [
       "<matplotlib.axes._subplots.AxesSubplot at 0x1a57d945d0>"
      ]
     },
     "execution_count": 34,
     "metadata": {},
     "output_type": "execute_result"
    },
    {
     "data": {
      "image/png": "[encoded data removed]",
      "text/plain": [
       "<Figure size 432x288 with 1 Axes>"
      ]
     },
     "metadata": {
      "needs_background": "light"
     },
     "output_type": "display_data"
    }
   ],
   "source": [
    "scprep.plot.plot_library_size(data_norm, title='Library size after normalization')"
   ]
  },
  {
   "cell_type": "markdown",
   "metadata": {
    "id": "Ms5YjU32qTtg"
   },
   "source": [
    "#### Creating the `metadata` DataFrame\n",
    "\n",
    "You'll notice now we have two metadata objects: `sample_labels` and `library_size`. We can make our lives easier by putting these into a DataFrame as follows."
   ]
  },
  {
   "cell_type": "code",
   "execution_count": 35,
   "metadata": {
    "id": "8DxxKMmrqTtg"
   },
   "outputs": [
    {
     "data": {
      "text/html": [
       "<div>\n",
       "<style scoped>\n",
       "    .dataframe tbody tr th:only-of-type {\n",
       "        vertical-align: middle;\n",
       "    }\n",
       "\n",
       "    .dataframe tbody tr th {\n",
       "        vertical-align: top;\n",
       "    }\n",
       "\n",
       "    .dataframe thead th {\n",
       "        text-align: right;\n",
       "    }\n",
       "</style>\n",
       "<table border=\"1\" class=\"dataframe\">\n",
       "  <thead>\n",
       "    <tr style=\"text-align: right;\">\n",
       "      <th></th>\n",
       "      <th>library_size</th>\n",
       "      <th>sample_labels</th>\n",
       "    </tr>\n",
       "  </thead>\n",
       "  <tbody>\n",
       "    <tr>\n",
       "      <th>AAACATTGAAAGCA-1_Day 00-03</th>\n",
       "      <td>5736.0</td>\n",
       "      <td>Day 00-03</td>\n",
       "    </tr>\n",
       "    <tr>\n",
       "      <th>AAACCGTGGAAGGC-1_Day 00-03</th>\n",
       "      <td>7744.0</td>\n",
       "      <td>Day 00-03</td>\n",
       "    </tr>\n",
       "    <tr>\n",
       "      <th>AAACGCACCGGTAT-1_Day 00-03</th>\n",
       "      <td>9555.0</td>\n",
       "      <td>Day 00-03</td>\n",
       "    </tr>\n",
       "    <tr>\n",
       "      <th>AAAGATCTCTGCTC-1_Day 00-03</th>\n",
       "      <td>5462.0</td>\n",
       "      <td>Day 00-03</td>\n",
       "    </tr>\n",
       "    <tr>\n",
       "      <th>AAAGATCTTGGTTG-1_Day 00-03</th>\n",
       "      <td>7395.0</td>\n",
       "      <td>Day 00-03</td>\n",
       "    </tr>\n",
       "    <tr>\n",
       "      <th>...</th>\n",
       "      <td>...</td>\n",
       "      <td>...</td>\n",
       "    </tr>\n",
       "    <tr>\n",
       "      <th>TTTCGAACTGAGAA-1_Day 24-27</th>\n",
       "      <td>2071.0</td>\n",
       "      <td>Day 24-27</td>\n",
       "    </tr>\n",
       "    <tr>\n",
       "      <th>TTTCGAACTTCTCA-1_Day 24-27</th>\n",
       "      <td>2581.0</td>\n",
       "      <td>Day 24-27</td>\n",
       "    </tr>\n",
       "    <tr>\n",
       "      <th>TTTCTACTCTTATC-1_Day 24-27</th>\n",
       "      <td>2453.0</td>\n",
       "      <td>Day 24-27</td>\n",
       "    </tr>\n",
       "    <tr>\n",
       "      <th>TTTCTACTTGAGCT-1_Day 24-27</th>\n",
       "      <td>2329.0</td>\n",
       "      <td>Day 24-27</td>\n",
       "    </tr>\n",
       "    <tr>\n",
       "      <th>TTTGCATGTTCTTG-1_Day 24-27</th>\n",
       "      <td>2592.0</td>\n",
       "      <td>Day 24-27</td>\n",
       "    </tr>\n",
       "  </tbody>\n",
       "</table>\n",
       "<p>9721 rows × 2 columns</p>\n",
       "</div>"
      ],
      "text/plain": [
       "                            library_size sample_labels\n",
       "AAACATTGAAAGCA-1_Day 00-03        5736.0     Day 00-03\n",
       "AAACCGTGGAAGGC-1_Day 00-03        7744.0     Day 00-03\n",
       "AAACGCACCGGTAT-1_Day 00-03        9555.0     Day 00-03\n",
       "AAAGATCTCTGCTC-1_Day 00-03        5462.0     Day 00-03\n",
       "AAAGATCTTGGTTG-1_Day 00-03        7395.0     Day 00-03\n",
       "...                                  ...           ...\n",
       "TTTCGAACTGAGAA-1_Day 24-27        2071.0     Day 24-27\n",
       "TTTCGAACTTCTCA-1_Day 24-27        2581.0     Day 24-27\n",
       "TTTCTACTCTTATC-1_Day 24-27        2453.0     Day 24-27\n",
       "TTTCTACTTGAGCT-1_Day 24-27        2329.0     Day 24-27\n",
       "TTTGCATGTTCTTG-1_Day 24-27        2592.0     Day 24-27\n",
       "\n",
       "[9721 rows x 2 columns]"
      ]
     },
     "execution_count": 35,
     "metadata": {},
     "output_type": "execute_result"
    }
   ],
   "source": [
    "metadata = pd.concat([library_size, sample_labels], axis=1)\n",
    "metadata"
   ]
  },
  {
   "cell_type": "markdown",
   "metadata": {
    "id": "qtpLNUB2acX4"
   },
   "source": [
    "### 3.4 - Gene Count Transformation\n",
    "\n",
    "In scRNA-seq analysis, we often see that some genes are orders of magnitude more common than others. Let's have a look at the mean expression of each gene."
   ]
  },
  {
   "cell_type": "code",
   "execution_count": 36,
   "metadata": {
    "id": "AmTZxGVDqTth"
   },
   "outputs": [
    {
     "data": {
      "text/plain": [
       "<matplotlib.axes._subplots.AxesSubplot at 0x1a31e0c3d0>"
      ]
     },
     "execution_count": 36,
     "metadata": {},
     "output_type": "execute_result"
    },
    {
     "data": {
      "image/png": "[encoded data removed]",
      "text/plain": [
       "<Figure size 432x288 with 1 Axes>"
      ]
     },
     "metadata": {
      "needs_background": "light"
     },
     "output_type": "display_data"
    }
   ],
   "source": [
    "scprep.plot.histogram(data_norm.mean(axis=0), log='y',\n",
    "                      title=\"Gene counts before transformation\",\n",
    "                     xlabel='total # of gene counts',\n",
    "                     ylabel='# of genes')"
   ]
  },
  {
   "cell_type": "markdown",
   "metadata": {
    "id": "xmu6l6v0qTth"
   },
   "source": [
    "In order to avoid these high-expression genes dominating the variation, the data is often $\\log$-transformed. This typically requires the addition of some small value to avoid taking $\\log(0)$. We avoid this issue entirely by instead taking the square root transform. The square root function has a similar form as the $\\log$ function with the added benefit of being stable at 0."
   ]
  },
  {
   "cell_type": "code",
   "execution_count": 37,
   "metadata": {
    "id": "gnWsT6p5acX5"
   },
   "outputs": [],
   "source": [
    "data_sqrt = scprep.transform.sqrt(data_norm)"
   ]
  },
  {
   "cell_type": "markdown",
   "metadata": {
    "id": "ad56GvI6qTth"
   },
   "source": [
    "After transformation, you should see that the mean expression values are now much closer together."
   ]
  },
  {
   "cell_type": "code",
   "execution_count": 38,
   "metadata": {
    "id": "Beez8pLtqTth"
   },
   "outputs": [
    {
     "data": {
      "text/plain": [
       "<matplotlib.axes._subplots.AxesSubplot at 0x1a5801f3d0>"
      ]
     },
     "execution_count": 38,
     "metadata": {},
     "output_type": "execute_result"
    },
    {
     "data": {
      "image/png": "[encoded data removed]",
      "text/plain": [
       "<Figure size 432x288 with 1 Axes>"
      ]
     },
     "metadata": {
      "needs_background": "light"
     },
     "output_type": "display_data"
    }
   ],
   "source": [
    "scprep.plot.histogram(data_sqrt.mean(axis=0), log='y',\n",
    "                      title=\"Gene counts after transformation\",\n",
    "                     xlabel='total # of gene counts',\n",
    "                     ylabel='# of genes')"
   ]
  },
  {
   "cell_type": "markdown",
   "metadata": {
    "id": "alvQBYRtqTth"
   },
   "source": [
    "### 3.5 - Selecting highly variable genes\n",
    "\n",
    "Many workflows involve just selecting highly variable genes. Gene variability is defined as the variance relative to the expected variance for a given gene mean, or \"standardized variance\". That is, genes with high mean have naturally higher variance simply due to their magnitude; we are interested in the genes that vary more than one would expect by random chance.\n",
    "\n",
    "You can plot the standardized variance with [`scprep.plot.plot_gene_variability()`](https://scprep.readthedocs.io/en/stable/reference.html#scprep.plot.plot_gene_variability)."
   ]
  },
  {
   "cell_type": "code",
   "execution_count": 39,
   "metadata": {
    "id": "vxqvOGV-qTth"
   },
   "outputs": [
    {
     "data": {
      "text/plain": [
       "<matplotlib.axes._subplots.AxesSubplot at 0x1a5c8cdad0>"
      ]
     },
     "execution_count": 39,
     "metadata": {},
     "output_type": "execute_result"
    },
    {
     "data": {
      "image/png": "[encoded data removed]",
      "text/plain": [
       "<Figure size 432x288 with 1 Axes>"
      ]
     },
     "metadata": {
      "needs_background": "light"
     },
     "output_type": "display_data"
    }
   ],
   "source": [
    "scprep.plot.plot_gene_variability(data_sqrt, percentile=90)"
   ]
  },
  {
   "cell_type": "markdown",
   "metadata": {
    "id": "9tl1NJj1qTth"
   },
   "source": [
    "If you wish to select just the highly variable genes, you can do so with [`scprep.select.highly_variable_genes()`](https://scprep.readthedocs.io/en/stable/reference.html#scprep.select.highly_variable_genes)."
   ]
  },
  {
   "cell_type": "code",
   "execution_count": 40,
   "metadata": {
    "id": "aA48Rl93qTti"
   },
   "outputs": [],
   "source": [
    "data_hvg = scprep.select.highly_variable_genes(data_sqrt, percentile=90)"
   ]
  },
  {
   "cell_type": "code",
   "execution_count": 41,
   "metadata": {
    "id": "4Y0jQ_yJqTti"
   },
   "outputs": [
    {
     "data": {
      "text/plain": [
       "(9721, 1654)"
      ]
     },
     "execution_count": 41,
     "metadata": {},
     "output_type": "execute_result"
    }
   ],
   "source": [
    "data_hvg.shape"
   ]
  },
  {
   "cell_type": "markdown",
   "metadata": {
    "id": "XLjoQoehqTti"
   },
   "source": [
    "Unsurprisingly, we're now left with just 1,800 genes. This reduced size dataset can be useful for, for example, dimensionality reduction and clustering, which we will cover later in the workshop.\n",
    "\n",
    "Finally, let's save the preprocessed data (we keeping all the genes, not just the highly variable ones) for later use."
   ]
  },
  {
   "cell_type": "code",
   "execution_count": 42,
   "metadata": {
    "id": "by3KKTA3qTti"
   },
   "outputs": [],
   "source": [
    "data_sqrt.to_pickle(\"embryoid_body_data.pickle.gz\")\n",
    "metadata.to_pickle(\"embryoid_body_metadata.pickle.gz\")"
   ]
  },
  {
   "cell_type": "markdown",
   "metadata": {
    "id": "BCL_yHR_qTti"
   },
   "source": [
    "### Discussion\n",
    "\n",
    "1. Why do we remove cells with high mitochondrial expression?\n",
    "\n",
    "High mitochondrial expression often indicates that a cell is likely to be dying/burst. In some cell types, however, healthy cells can have high mitochondrial expression, so this is on a case-by-case basis.\n",
    "\n",
    "2. Why do we remove genes with non-zero expression in very few cells?\n",
    "\n",
    "They are most likely poorly captured by the reverse transcription process, so we lack sufficient information to understand their expressions.\n",
    "\n",
    "3. Why do we normalize expression by library size?\n",
    "\n",
    "Most of the variation in library size is due to the capture efficiency of sequencing reactions, so we can remove this technical difference between cells.\n",
    "\n",
    "4. Why do we apply a sublinear transformation (e.g. `sqrt` or `log`) to the normalized expression?\n",
    "\n",
    "Some genes have very high numbers of mRNA while others naturally have lower amounts. A sublinear transformation decreases the influence on cell similarity of these highly expressed genes."
   ]
  },
  {
   "cell_type": "markdown",
   "metadata": {
    "id": "CX9Beu0JqTti"
   },
   "source": [
    "## Summary\n",
    "\n",
    "To summarize, we've preprocessed our data as follows:\n",
    "\n",
    "1. Filter by library size to remove empty droplets and doublets\n",
    "2. Combine batches\n",
    "3. Filter out rarely expressed genes\n",
    "4. Filter cells with high mitochrondrial expression\n",
    "5. Normalize by library size\n",
    "6. Square root transform\n",
    "7. (Optional) Select highly variable genes"
   ]
  },
  {
   "cell_type": "markdown",
   "metadata": {
    "id": "h1r6GkYHqTti"
   },
   "source": [
    "## Exercise: what happens if you modify the preprocessing workflow?\n",
    "\n",
    "We've summarized the entire preprocessing pipeline below. Choose a step of the preprocessing workflow and modify it. Select different thresholds or remove the step altogether and see what happens. Compare to the others in your group to see the effect of different steps. The last step is to generate a PHATE visualization. Observe how the visualization changes as you modify various cutoffs and thresholds.\n",
    "\n",
    "We'll review visualization tomorrow, but for now you can consult [the PHATE paper](https://doi.org/10.1038/s41587-019-0336-3) if you have questions."
   ]
  },
  {
   "cell_type": "code",
   "execution_count": 43,
   "metadata": {
    "id": "tcgUTCvgqTti"
   },
   "outputs": [
    {
     "name": "stdout",
     "output_type": "stream",
     "text": [
      "Collecting phate\n",
      "  Downloading phate-1.0.4-py3-none-any.whl (23 kB)\n",
      "Requirement already satisfied: numpy>=1.16.0 in /opt/anaconda3/lib/python3.7/site-packages (from phate) (1.18.1)\n",
      "Requirement already satisfied: future in /opt/anaconda3/lib/python3.7/site-packages (from phate) (0.18.2)\n",
      "Requirement already satisfied: scprep>=0.11.1 in /opt/anaconda3/lib/python3.7/site-packages (from phate) (1.0.11)\n",
      "Requirement already satisfied: scikit-learn>=0.20.0 in /opt/anaconda3/lib/python3.7/site-packages (from phate) (0.22.1)\n",
      "Requirement already satisfied: tasklogger>=1.0 in /opt/anaconda3/lib/python3.7/site-packages (from phate) (1.0.0)\n",
      "Collecting Deprecated\n",
      "  Downloading Deprecated-1.2.11-py2.py3-none-any.whl (9.1 kB)\n",
      "Requirement already satisfied: matplotlib>=3.0 in /opt/anaconda3/lib/python3.7/site-packages (from phate) (3.1.3)\n",
      "Requirement already satisfied: scipy>=1.1.0 in /opt/anaconda3/lib/python3.7/site-packages (from phate) (1.4.1)\n",
      "Collecting s-gd2>=1.5\n",
      "  Downloading s_gd2-1.8-cp37-cp37m-macosx_10_14_x86_64.whl (56 kB)\n",
      "\u001b[K     |████████████████████████████████| 56 kB 1.1 MB/s eta 0:00:01\n",
      "\u001b[?25hCollecting graphtools>=1.3.1\n",
      "  Downloading graphtools-1.5.2-py3-none-any.whl (45 kB)\n",
      "\u001b[K     |████████████████████████████████| 45 kB 1.2 MB/s eta 0:00:01\n",
      "\u001b[?25hRequirement already satisfied: pandas>=0.25 in /opt/anaconda3/lib/python3.7/site-packages (from scprep>=0.11.1->phate) (1.0.1)\n",
      "Requirement already satisfied: decorator>=4.3.0 in /opt/anaconda3/lib/python3.7/site-packages (from scprep>=0.11.1->phate) (4.4.1)\n",
      "Requirement already satisfied: joblib>=0.11 in /opt/anaconda3/lib/python3.7/site-packages (from scikit-learn>=0.20.0->phate) (0.14.1)\n",
      "Requirement already satisfied: wrapt<2,>=1.10 in /opt/anaconda3/lib/python3.7/site-packages (from Deprecated->phate) (1.11.2)\n",
      "Requirement already satisfied: python-dateutil>=2.1 in /opt/anaconda3/lib/python3.7/site-packages (from matplotlib>=3.0->phate) (2.8.1)\n",
      "Requirement already satisfied: kiwisolver>=1.0.1 in /opt/anaconda3/lib/python3.7/site-packages (from matplotlib>=3.0->phate) (1.1.0)\n",
      "Requirement already satisfied: pyparsing!=2.0.4,!=2.1.2,!=2.1.6,>=2.0.1 in /opt/anaconda3/lib/python3.7/site-packages (from matplotlib>=3.0->phate) (2.4.6)\n",
      "Requirement already satisfied: cycler>=0.10 in /opt/anaconda3/lib/python3.7/site-packages (from matplotlib>=3.0->phate) (0.10.0)\n",
      "Collecting pygsp>=0.5.1\n",
      "  Downloading PyGSP-0.5.1-py2.py3-none-any.whl (1.8 MB)\n",
      "\u001b[K     |████████████████████████████████| 1.8 MB 2.0 MB/s eta 0:00:01\n",
      "\u001b[?25hRequirement already satisfied: pytz>=2017.2 in /opt/anaconda3/lib/python3.7/site-packages (from pandas>=0.25->scprep>=0.11.1->phate) (2019.3)\n",
      "Requirement already satisfied: six>=1.5 in /opt/anaconda3/lib/python3.7/site-packages (from python-dateutil>=2.1->matplotlib>=3.0->phate) (1.14.0)\n",
      "Requirement already satisfied: setuptools in /opt/anaconda3/lib/python3.7/site-packages (from kiwisolver>=1.0.1->matplotlib>=3.0->phate) (46.0.0.post20200309)\n",
      "Installing collected packages: Deprecated, s-gd2, pygsp, graphtools, phate\n",
      "Successfully installed Deprecated-1.2.11 graphtools-1.5.2 phate-1.0.4 pygsp-0.5.1 s-gd2-1.8\n"
     ]
    }
   ],
   "source": [
    "!pip install phate"
   ]
  },
  {
   "cell_type": "code",
   "execution_count": 45,
   "metadata": {
    "id": "MfRofKtWqTti"
   },
   "outputs": [],
   "source": [
    "import phate\n",
    "\n",
    "filenames = [\"T0_1A\", \"T2_3B\", \"T4_5C\", \"T6_7D\", \"T8_9E\"]\n",
    "\n",
    "# load batches\n",
    "data_batches = []\n",
    "for filename in filenames:\n",
    "    data_batches.append(scprep.io.load_10X(os.path.join(download_path, \"scRNAseq\", filename), \n",
    "                                           sparse=sparse, gene_labels='both'))\n",
    "\n",
    "# library size filter\n",
    "data = []\n",
    "for batch in data_batches:\n",
    "    batch = scprep.filter.filter_library_size(batch, percentile=(10, 90))\n",
    "    data.append(batch)\n",
    "\n",
    "# combine batches\n",
    "data, sample_labels = scprep.utils.combine_batches(\n",
    "    data, \n",
    "    [\"Day 00-03\", \"Day 06-09\", \"Day 12-15\", \"Day 18-21\", \"Day 24-27\"]\n",
    ")\n",
    "\n",
    "# store library size and put it into a metadata dataframe\n",
    "libsize = scprep.measure.library_size(data)\n",
    "metadata = pd.concat([sample_labels, libsize], axis=1)\n",
    "\n",
    "# filter by mitochrondrial expression\n",
    "data, metadata = scprep.filter.filter_gene_set_expression(\n",
    "    data, metadata, starts_with=\"MT-\",\n",
    "    percentile=90, keep_cells='below', library_size_normalize=True)\n",
    "\n",
    "# remove rare genes\n",
    "data = scprep.filter.filter_rare_genes(data, cutoff=0, min_cells=10)\n",
    "\n",
    "# normalize\n",
    "data = scprep.normalize.library_size_normalize(data)\n",
    "\n",
    "# transform\n",
    "data = scprep.transform.sqrt(data)\n",
    "\n",
    "# highly variable genes\n",
    "data_hvg = scprep.select.highly_variable_genes(data, percentile=90)\n",
    "\n",
    "# dimensionality reduction for visualization\n",
    "data_phate = phate.PHATE(verbose=False).fit_transform(data_hvg)"
   ]
  },
  {
   "cell_type": "markdown",
   "metadata": {
    "id": "fTN5ZBF4qTtj"
   },
   "source": [
    "#### Plot the results\n",
    "\n",
    "We show the PHATE plot below with the following colorings:\n",
    "\n",
    "* Time point - we expect the time points to show a progression from early to late, with late points showing more heterogeneity\n",
    "* Library size - ideally there is relatively little variation between cells due to library size\n",
    "* HAND1 - this gene is a marker of cardiac progenitors\n",
    "* SOX2 - this gene is a marker of neural crest cells\n",
    "* Mitochondrial expression - this is a marker of apoptosis"
   ]
  },
  {
   "cell_type": "code",
   "execution_count": 46,
   "metadata": {
    "id": "mzWiUjniqTtj"
   },
   "outputs": [
    {
     "data": {
      "image/png": "[encoded data removed]",
      "text/plain": [
       "<Figure size 1440x288 with 9 Axes>"
      ]
     },
     "metadata": {
      "needs_background": "light"
     },
     "output_type": "display_data"
    }
   ],
   "source": [
    "fig, axes = plt.subplots(1, 5, figsize=(20, 4))\n",
    "scprep.plot.scatter2d(data_phate, c=metadata['sample_labels'], title='Time',\n",
    "                      ticks=False, ax=axes[0], label_prefix='PHATE')\n",
    "scprep.plot.scatter2d(data_phate, c=metadata['library_size'], title='Library Size', cmap_scale='log',\n",
    "                      ticks=False, ax=axes[1], label_prefix='PHATE')\n",
    "scprep.plot.scatter2d(data_phate, c=scprep.select.select_cols(data, exact_word=\"HAND1\"), title='HAND1',\n",
    "                      ticks=False, ax=axes[2], label_prefix='PHATE')\n",
    "scprep.plot.scatter2d(data_phate, c=scprep.select.select_cols(data, exact_word=\"SOX2\"), title='SOX2',\n",
    "                      ticks=False, ax=axes[3], label_prefix='PHATE')\n",
    "scprep.plot.scatter2d(data_phate, c=scprep.measure.gene_set_expression(data, starts_with=\"MT-\"), title='Mitochondrial',\n",
    "                      ticks=False, ax=axes[4], label_prefix='PHATE')\n",
    "plt.tight_layout()"
   ]
  }
 ],
 "metadata": {
  "colab": {
   "name": "00_Loading_and_preprocessing_scRNAseq_data.ipynb",
   "provenance": []
  },
  "kernelspec": {
   "display_name": "Python 3",
   "language": "python",
   "name": "python3"
  },
  "language_info": {
   "codemirror_mode": {
    "name": "ipython",
    "version": 3
   },
   "file_extension": ".py",
   "mimetype": "text/x-python",
   "name": "python",
   "nbconvert_exporter": "python",
   "pygments_lexer": "ipython3",
   "version": "3.7.6"
  }
 },
 "nbformat": 4,
 "nbformat_minor": 1
}
